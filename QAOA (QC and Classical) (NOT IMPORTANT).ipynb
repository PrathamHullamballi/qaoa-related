{
 "cells": [
  {
   "cell_type": "code",
   "execution_count": 1,
   "id": "0961207e",
   "metadata": {},
   "outputs": [
    {
     "data": {
      "text/plain": [
       "{'qiskit-terra': '0.22.2', 'qiskit-aer': '0.11.1', 'qiskit-ignis': None, 'qiskit-ibmq-provider': '0.19.2', 'qiskit': '0.39.2', 'qiskit-nature': None, 'qiskit-finance': None, 'qiskit-optimization': None, 'qiskit-machine-learning': None}"
      ]
     },
     "execution_count": 1,
     "metadata": {},
     "output_type": "execute_result"
    }
   ],
   "source": [
    "import qiskit\n",
    "import random\n",
    "qiskit.__qiskit_version__"
   ]
  },
  {
   "cell_type": "code",
   "execution_count": 2,
   "id": "c181f76d",
   "metadata": {},
   "outputs": [],
   "source": [
    "import numpy as np\n",
    "import networkx as nx\n",
    "import matplotlib.pyplot as plt\n",
    "from collections import defaultdict\n",
    "from operator import itemgetter\n",
    "from scipy.optimize import minimize\n",
    "from qiskit import QuantumCircuit, QuantumRegister, ClassicalRegister, execute, Aer\n",
    "from qiskit import *"
   ]
  },
  {
   "cell_type": "code",
   "execution_count": 3,
   "id": "56bc63e8",
   "metadata": {},
   "outputs": [
    {
     "data": {
      "image/png": "[encoded data removed]",
      "text/plain": [
       "<Figure size 640x480 with 1 Axes>"
      ]
     },
     "metadata": {},
     "output_type": "display_data"
    }
   ],
   "source": [
    "\"\"\"G = nx.Graph()\n",
    "G.add_edges_from([[0,3],[0,4],[1,3],[1,4],[2,3],[2,4]])\n",
    "nx.draw(G, pos=nx.bipartite_layout(G, [0,1,2]))\"\"\"\n",
    "\n",
    "seed = 452002\n",
    "G = nx.complete_graph(5)\n",
    "pos = {\n",
    "    0: (0, 0),\n",
    "    1: (1, 0),\n",
    "    2: (2, 0),\n",
    "    3: (0.5, 1),\n",
    "    4: (1.5, 1),\n",
    "}\n",
    "nx.draw(G, pos=pos, with_labels=True)"
   ]
  },
  {
   "cell_type": "code",
   "execution_count": 4,
   "id": "1c1a7175",
   "metadata": {},
   "outputs": [],
   "source": [
    "def append_zz_term(qc, q1, q2, gamma):\n",
    "    qc.cx(q1,q2)\n",
    "    qc.rz(2*gamma, q2)\n",
    "    qc.cx(q1,q2)\n",
    "\n",
    "def get_cost_operator_circuit(G, gamma):\n",
    "    N = G.number_of_nodes()\n",
    "    qc = QuantumCircuit(N,N)\n",
    "    for i, j in G.edges():\n",
    "        append_zz_term(qc, i, j, gamma)\n",
    "    return qc\n",
    "    "
   ]
  },
  {
   "cell_type": "code",
   "execution_count": 5,
   "id": "c74f55dd",
   "metadata": {},
   "outputs": [
    {
     "data": {
      "text/html": [
       "<pre style=\"word-wrap: normal;white-space: pre;background: #fff0;line-height: 1.1;font-family: &quot;Courier New&quot;,Courier,monospace\">                                                                              »\n",
       "q_0: ──■────────────────■────■────────────────■────■──────────────────────────»\n",
       "     ┌─┴─┐┌──────────┐┌─┴─┐  │                │    │                          »\n",
       "q_1: ┤ X ├┤ Rz(2π/3) ├┤ X ├──┼────────────────┼────┼───────■──────────────────»\n",
       "     └───┘└──────────┘└───┘┌─┴─┐┌──────────┐┌─┴─┐  │     ┌─┴─┐    ┌──────────┐»\n",
       "q_2: ──────────────────────┤ X ├┤ Rz(2π/3) ├┤ X ├──┼─────┤ X ├────┤ Rz(2π/3) ├»\n",
       "                           └───┘└──────────┘└───┘┌─┴─┐┌──┴───┴───┐└──────────┘»\n",
       "q_3: ────────────────────────────────────────────┤ X ├┤ Rz(2π/3) ├────────────»\n",
       "                                                 └───┘└──────────┘            »\n",
       "q_4: ─────────────────────────────────────────────────────────────────────────»\n",
       "                                                                              »\n",
       "c_0: ═════════════════════════════════════════════════════════════════════════»\n",
       "                                                                              »\n",
       "c_1: ═════════════════════════════════════════════════════════════════════════»\n",
       "                                                                              »\n",
       "c_2: ═════════════════════════════════════════════════════════════════════════»\n",
       "                                                                              »\n",
       "c_3: ═════════════════════════════════════════════════════════════════════════»\n",
       "                                                                              »\n",
       "c_4: ═════════════════════════════════════════════════════════════════════════»\n",
       "                                                                              »\n",
       "«                                                                       »\n",
       "«q_0: ──■─────────■────────────────────────────■────────────────────────»\n",
       "«       │         │                            │                        »\n",
       "«q_1: ──┼────■────┼───────■────────────────────┼────■────■──────────────»\n",
       "«       │  ┌─┴─┐  │       │                    │    │    │              »\n",
       "«q_2: ──┼──┤ X ├──┼───────┼────────────────────┼────┼────┼───────■──────»\n",
       "«     ┌─┴─┐└───┘  │     ┌─┴─┐    ┌──────────┐  │  ┌─┴─┐  │     ┌─┴─┐    »\n",
       "«q_3: ┤ X ├───────┼─────┤ X ├────┤ Rz(2π/3) ├──┼──┤ X ├──┼─────┤ X ├────»\n",
       "«     └───┘     ┌─┴─┐┌──┴───┴───┐└──────────┘┌─┴─┐└───┘┌─┴─┐┌──┴───┴───┐»\n",
       "«q_4: ──────────┤ X ├┤ Rz(2π/3) ├────────────┤ X ├─────┤ X ├┤ Rz(2π/3) ├»\n",
       "«               └───┘└──────────┘            └───┘     └───┘└──────────┘»\n",
       "«c_0: ══════════════════════════════════════════════════════════════════»\n",
       "«                                                                       »\n",
       "«c_1: ══════════════════════════════════════════════════════════════════»\n",
       "«                                                                       »\n",
       "«c_2: ══════════════════════════════════════════════════════════════════»\n",
       "«                                                                       »\n",
       "«c_3: ══════════════════════════════════════════════════════════════════»\n",
       "«                                                                       »\n",
       "«c_4: ══════════════════════════════════════════════════════════════════»\n",
       "«                                                                       »\n",
       "«                                                                       \n",
       "«q_0: ──────────────────────────────────────────────────────────────────\n",
       "«                                                                       \n",
       "«q_1: ──────────────■───────────────────────────────────────────────────\n",
       "«                   │                                                   \n",
       "«q_2: ──────────────┼────■────■────────────────■────────────────────────\n",
       "«     ┌──────────┐  │  ┌─┴─┐  │                │                        \n",
       "«q_3: ┤ Rz(2π/3) ├──┼──┤ X ├──┼────────────────┼────■────────────────■──\n",
       "«     └──────────┘┌─┴─┐└───┘┌─┴─┐┌──────────┐┌─┴─┐┌─┴─┐┌──────────┐┌─┴─┐\n",
       "«q_4: ────────────┤ X ├─────┤ X ├┤ Rz(2π/3) ├┤ X ├┤ X ├┤ Rz(2π/3) ├┤ X ├\n",
       "«                 └───┘     └───┘└──────────┘└───┘└───┘└──────────┘└───┘\n",
       "«c_0: ══════════════════════════════════════════════════════════════════\n",
       "«                                                                       \n",
       "«c_1: ══════════════════════════════════════════════════════════════════\n",
       "«                                                                       \n",
       "«c_2: ══════════════════════════════════════════════════════════════════\n",
       "«                                                                       \n",
       "«c_3: ══════════════════════════════════════════════════════════════════\n",
       "«                                                                       \n",
       "«c_4: ══════════════════════════════════════════════════════════════════\n",
       "«                                                                       </pre>"
      ],
      "text/plain": [
       "                                                                              »\n",
       "q_0: ──■────────────────■────■────────────────■────■──────────────────────────»\n",
       "     ┌─┴─┐┌──────────┐┌─┴─┐  │                │    │                          »\n",
       "q_1: ┤ X ├┤ Rz(2π/3) ├┤ X ├──┼────────────────┼────┼───────■──────────────────»\n",
       "     └───┘└──────────┘└───┘┌─┴─┐┌──────────┐┌─┴─┐  │     ┌─┴─┐    ┌──────────┐»\n",
       "q_2: ──────────────────────┤ X ├┤ Rz(2π/3) ├┤ X ├──┼─────┤ X ├────┤ Rz(2π/3) ├»\n",
       "                           └───┘└──────────┘└───┘┌─┴─┐┌──┴───┴───┐└──────────┘»\n",
       "q_3: ────────────────────────────────────────────┤ X ├┤ Rz(2π/3) ├────────────»\n",
       "                                                 └───┘└──────────┘            »\n",
       "q_4: ─────────────────────────────────────────────────────────────────────────»\n",
       "                                                                              »\n",
       "c_0: ═════════════════════════════════════════════════════════════════════════»\n",
       "                                                                              »\n",
       "c_1: ═════════════════════════════════════════════════════════════════════════»\n",
       "                                                                              »\n",
       "c_2: ═════════════════════════════════════════════════════════════════════════»\n",
       "                                                                              »\n",
       "c_3: ═════════════════════════════════════════════════════════════════════════»\n",
       "                                                                              »\n",
       "c_4: ═════════════════════════════════════════════════════════════════════════»\n",
       "                                                                              »\n",
       "«                                                                       »\n",
       "«q_0: ──■─────────■────────────────────────────■────────────────────────»\n",
       "«       │         │                            │                        »\n",
       "«q_1: ──┼────■────┼───────■────────────────────┼────■────■──────────────»\n",
       "«       │  ┌─┴─┐  │       │                    │    │    │              »\n",
       "«q_2: ──┼──┤ X ├──┼───────┼────────────────────┼────┼────┼───────■──────»\n",
       "«     ┌─┴─┐└───┘  │     ┌─┴─┐    ┌──────────┐  │  ┌─┴─┐  │     ┌─┴─┐    »\n",
       "«q_3: ┤ X ├───────┼─────┤ X ├────┤ Rz(2π/3) ├──┼──┤ X ├──┼─────┤ X ├────»\n",
       "«     └───┘     ┌─┴─┐┌──┴───┴───┐└──────────┘┌─┴─┐└───┘┌─┴─┐┌──┴───┴───┐»\n",
       "«q_4: ──────────┤ X ├┤ Rz(2π/3) ├────────────┤ X ├─────┤ X ├┤ Rz(2π/3) ├»\n",
       "«               └───┘└──────────┘            └───┘     └───┘└──────────┘»\n",
       "«c_0: ══════════════════════════════════════════════════════════════════»\n",
       "«                                                                       »\n",
       "«c_1: ══════════════════════════════════════════════════════════════════»\n",
       "«                                                                       »\n",
       "«c_2: ══════════════════════════════════════════════════════════════════»\n",
       "«                                                                       »\n",
       "«c_3: ══════════════════════════════════════════════════════════════════»\n",
       "«                                                                       »\n",
       "«c_4: ══════════════════════════════════════════════════════════════════»\n",
       "«                                                                       »\n",
       "«                                                                       \n",
       "«q_0: ──────────────────────────────────────────────────────────────────\n",
       "«                                                                       \n",
       "«q_1: ──────────────■───────────────────────────────────────────────────\n",
       "«                   │                                                   \n",
       "«q_2: ──────────────┼────■────■────────────────■────────────────────────\n",
       "«     ┌──────────┐  │  ┌─┴─┐  │                │                        \n",
       "«q_3: ┤ Rz(2π/3) ├──┼──┤ X ├──┼────────────────┼────■────────────────■──\n",
       "«     └──────────┘┌─┴─┐└───┘┌─┴─┐┌──────────┐┌─┴─┐┌─┴─┐┌──────────┐┌─┴─┐\n",
       "«q_4: ────────────┤ X ├─────┤ X ├┤ Rz(2π/3) ├┤ X ├┤ X ├┤ Rz(2π/3) ├┤ X ├\n",
       "«                 └───┘     └───┘└──────────┘└───┘└───┘└──────────┘└───┘\n",
       "«c_0: ══════════════════════════════════════════════════════════════════\n",
       "«                                                                       \n",
       "«c_1: ══════════════════════════════════════════════════════════════════\n",
       "«                                                                       \n",
       "«c_2: ══════════════════════════════════════════════════════════════════\n",
       "«                                                                       \n",
       "«c_3: ══════════════════════════════════════════════════════════════════\n",
       "«                                                                       \n",
       "«c_4: ══════════════════════════════════════════════════════════════════\n",
       "«                                                                       "
      ]
     },
     "execution_count": 5,
     "metadata": {},
     "output_type": "execute_result"
    }
   ],
   "source": [
    "qc = get_cost_operator_circuit(G, np.pi / 3)\n",
    "qc.draw()"
   ]
  },
  {
   "cell_type": "code",
   "execution_count": 6,
   "id": "bbe80eba",
   "metadata": {},
   "outputs": [],
   "source": [
    "def append_x_term(qc, q1, beta):\n",
    "    qc.rx(2*beta, q1)\n",
    "\n",
    "def get_mixer_operator_circuit(G, beta):\n",
    "    N = G.number_of_nodes()\n",
    "    qc = QuantumCircuit(N,N)\n",
    "    for n in G.nodes():\n",
    "        append_x_term(qc, n, beta)\n",
    "    return qc"
   ]
  },
  {
   "cell_type": "code",
   "execution_count": 7,
   "id": "bcafe9cc",
   "metadata": {},
   "outputs": [
    {
     "data": {
      "text/html": [
       "<pre style=\"word-wrap: normal;white-space: pre;background: #fff0;line-height: 1.1;font-family: &quot;Courier New&quot;,Courier,monospace\">     ┌──────────┐\n",
       "q_0: ┤ Rx(2π/3) ├\n",
       "     ├──────────┤\n",
       "q_1: ┤ Rx(2π/3) ├\n",
       "     ├──────────┤\n",
       "q_2: ┤ Rx(2π/3) ├\n",
       "     ├──────────┤\n",
       "q_3: ┤ Rx(2π/3) ├\n",
       "     ├──────────┤\n",
       "q_4: ┤ Rx(2π/3) ├\n",
       "     └──────────┘\n",
       "c_0: ════════════\n",
       "                 \n",
       "c_1: ════════════\n",
       "                 \n",
       "c_2: ════════════\n",
       "                 \n",
       "c_3: ════════════\n",
       "                 \n",
       "c_4: ════════════\n",
       "                 </pre>"
      ],
      "text/plain": [
       "     ┌──────────┐\n",
       "q_0: ┤ Rx(2π/3) ├\n",
       "     ├──────────┤\n",
       "q_1: ┤ Rx(2π/3) ├\n",
       "     ├──────────┤\n",
       "q_2: ┤ Rx(2π/3) ├\n",
       "     ├──────────┤\n",
       "q_3: ┤ Rx(2π/3) ├\n",
       "     ├──────────┤\n",
       "q_4: ┤ Rx(2π/3) ├\n",
       "     └──────────┘\n",
       "c_0: ════════════\n",
       "                 \n",
       "c_1: ════════════\n",
       "                 \n",
       "c_2: ════════════\n",
       "                 \n",
       "c_3: ════════════\n",
       "                 \n",
       "c_4: ════════════\n",
       "                 "
      ]
     },
     "execution_count": 7,
     "metadata": {},
     "output_type": "execute_result"
    }
   ],
   "source": [
    "qc = get_mixer_operator_circuit(G, np.pi/3)\n",
    "qc.draw()"
   ]
  },
  {
   "cell_type": "code",
   "execution_count": 8,
   "id": "0ac325df",
   "metadata": {},
   "outputs": [],
   "source": [
    "def get_qaoa_circuit(G, beta, gamma):\n",
    "    assert(len(beta) == len(gamma))\n",
    "    p = len(beta) # infering number of QAOA steps from the parameters passed\n",
    "    N = G.number_of_nodes()\n",
    "    qc = QuantumCircuit(N,N)\n",
    "    # first, apply a layer of Hadamards\n",
    "    qc.h(range(N))\n",
    "    # second, apply p alternating operators\n",
    "    for i in range(p):\n",
    "        qc += get_cost_operator_circuit(G,gamma[i])\n",
    "        qc += get_mixer_operator_circuit(G,beta[i])\n",
    "    # finally, do not forget to measure the result!\n",
    "    qc.barrier(range(N))\n",
    "    qc.measure(range(N), range(N))\n",
    "    return qc"
   ]
  },
  {
   "cell_type": "code",
   "execution_count": 9,
   "id": "2cb55b3d",
   "metadata": {},
   "outputs": [
    {
     "name": "stderr",
     "output_type": "stream",
     "text": [
      "C:\\Users\\prath\\AppData\\Local\\Temp\\ipykernel_19052\\1074017623.py:10: DeprecationWarning: The QuantumCircuit.__iadd__() method is being deprecated. Use the compose() (potentially with the inplace=True argument) and tensor() methods which are more flexible w.r.t circuit register compatibility.\n",
      "  qc += get_cost_operator_circuit(G,gamma[i])\n",
      "C:\\Users\\prath\\AppData\\Local\\Temp\\ipykernel_19052\\1074017623.py:11: DeprecationWarning: The QuantumCircuit.__iadd__() method is being deprecated. Use the compose() (potentially with the inplace=True argument) and tensor() methods which are more flexible w.r.t circuit register compatibility.\n",
      "  qc += get_mixer_operator_circuit(G,beta[i])\n"
     ]
    },
    {
     "data": {
      "text/html": [
       "<pre style=\"word-wrap: normal;white-space: pre;background: #fff0;line-height: 1.1;font-family: &quot;Courier New&quot;,Courier,monospace\">     ┌───┐                                                                  »\n",
       "q_0: ┤ H ├──■─────────────■────■─────────────■────■──────────────────────■──»\n",
       "     ├───┤┌─┴─┐┌───────┐┌─┴─┐  │             │    │                      │  »\n",
       "q_1: ┤ H ├┤ X ├┤ Rz(π) ├┤ X ├──┼─────────────┼────┼──────■───────────────┼──»\n",
       "     ├───┤└───┘└───────┘└───┘┌─┴─┐┌───────┐┌─┴─┐  │    ┌─┴─┐  ┌───────┐  │  »\n",
       "q_2: ┤ H ├───────────────────┤ X ├┤ Rz(π) ├┤ X ├──┼────┤ X ├──┤ Rz(π) ├──┼──»\n",
       "     ├───┤                   └───┘└───────┘└───┘┌─┴─┐┌─┴───┴─┐└───────┘┌─┴─┐»\n",
       "q_3: ┤ H ├──────────────────────────────────────┤ X ├┤ Rz(π) ├─────────┤ X ├»\n",
       "     ├───┤                                      └───┘└───────┘         └───┘»\n",
       "q_4: ┤ H ├──────────────────────────────────────────────────────────────────»\n",
       "     └───┘                                                                  »\n",
       "c_0: ═══════════════════════════════════════════════════════════════════════»\n",
       "                                                                            »\n",
       "c_1: ═══════════════════════════════════════════════════════════════════════»\n",
       "                                                                            »\n",
       "c_2: ═══════════════════════════════════════════════════════════════════════»\n",
       "                                                                            »\n",
       "c_3: ═══════════════════════════════════════════════════════════════════════»\n",
       "                                                                            »\n",
       "c_4: ═══════════════════════════════════════════════════════════════════════»\n",
       "                                                                            »\n",
       "«                                      ┌──────────┐                            »\n",
       "«q_0: ───────■──────────────────────■──┤ Rx(2π/3) ├────────────────────────────»\n",
       "«            │                      │  └──────────┘                            »\n",
       "«q_1: ──■────┼──────■───────────────┼───────■────────■──────────────────────■──»\n",
       "«     ┌─┴─┐  │      │               │       │        │                      │  »\n",
       "«q_2: ┤ X ├──┼──────┼───────────────┼───────┼────────┼──────■───────────────┼──»\n",
       "«     └───┘  │    ┌─┴─┐  ┌───────┐  │     ┌─┴─┐      │    ┌─┴─┐  ┌───────┐  │  »\n",
       "«q_3: ───────┼────┤ X ├──┤ Rz(π) ├──┼─────┤ X ├──────┼────┤ X ├──┤ Rz(π) ├──┼──»\n",
       "«          ┌─┴─┐┌─┴───┴─┐└───────┘┌─┴─┐   └───┘    ┌─┴─┐┌─┴───┴─┐└───────┘┌─┴─┐»\n",
       "«q_4: ─────┤ X ├┤ Rz(π) ├─────────┤ X ├────────────┤ X ├┤ Rz(π) ├─────────┤ X ├»\n",
       "«          └───┘└───────┘         └───┘            └───┘└───────┘         └───┘»\n",
       "«c_0: ═════════════════════════════════════════════════════════════════════════»\n",
       "«                                                                              »\n",
       "«c_1: ═════════════════════════════════════════════════════════════════════════»\n",
       "«                                                                              »\n",
       "«c_2: ═════════════════════════════════════════════════════════════════════════»\n",
       "«                                                                              »\n",
       "«c_3: ═════════════════════════════════════════════════════════════════════════»\n",
       "«                                                                              »\n",
       "«c_4: ═════════════════════════════════════════════════════════════════════════»\n",
       "«                                                                              »\n",
       "«                                                                           ░ »\n",
       "«q_0: ──────────────────────────────────────────────────────────────────────░─»\n",
       "«     ┌──────────┐                                                          ░ »\n",
       "«q_1: ┤ Rx(2π/3) ├──────────────────────────────────────────────────────────░─»\n",
       "«     └──────────┘                   ┌──────────┐                           ░ »\n",
       "«q_2: ─────■────────■─────────────■──┤ Rx(2π/3) ├───────────────────────────░─»\n",
       "«        ┌─┴─┐      │             │  └──────────┘              ┌──────────┐ ░ »\n",
       "«q_3: ───┤ X ├──────┼─────────────┼───────■─────────────────■──┤ Rx(2π/3) ├─░─»\n",
       "«        └───┘    ┌─┴─┐┌───────┐┌─┴─┐   ┌─┴─┐    ┌───────┐┌─┴─┐├──────────┤ ░ »\n",
       "«q_4: ────────────┤ X ├┤ Rz(π) ├┤ X ├───┤ X ├────┤ Rz(π) ├┤ X ├┤ Rx(2π/3) ├─░─»\n",
       "«                 └───┘└───────┘└───┘   └───┘    └───────┘└───┘└──────────┘ ░ »\n",
       "«c_0: ════════════════════════════════════════════════════════════════════════»\n",
       "«                                                                             »\n",
       "«c_1: ════════════════════════════════════════════════════════════════════════»\n",
       "«                                                                             »\n",
       "«c_2: ════════════════════════════════════════════════════════════════════════»\n",
       "«                                                                             »\n",
       "«c_3: ════════════════════════════════════════════════════════════════════════»\n",
       "«                                                                             »\n",
       "«c_4: ════════════════════════════════════════════════════════════════════════»\n",
       "«                                                                             »\n",
       "«     ┌─┐            \n",
       "«q_0: ┤M├────────────\n",
       "«     └╥┘┌─┐         \n",
       "«q_1: ─╫─┤M├─────────\n",
       "«      ║ └╥┘┌─┐      \n",
       "«q_2: ─╫──╫─┤M├──────\n",
       "«      ║  ║ └╥┘┌─┐   \n",
       "«q_3: ─╫──╫──╫─┤M├───\n",
       "«      ║  ║  ║ └╥┘┌─┐\n",
       "«q_4: ─╫──╫──╫──╫─┤M├\n",
       "«      ║  ║  ║  ║ └╥┘\n",
       "«c_0: ═╩══╬══╬══╬══╬═\n",
       "«         ║  ║  ║  ║ \n",
       "«c_1: ════╩══╬══╬══╬═\n",
       "«            ║  ║  ║ \n",
       "«c_2: ═══════╩══╬══╬═\n",
       "«               ║  ║ \n",
       "«c_3: ══════════╩══╬═\n",
       "«                  ║ \n",
       "«c_4: ═════════════╩═\n",
       "«                    </pre>"
      ],
      "text/plain": [
       "     ┌───┐                                                                  »\n",
       "q_0: ┤ H ├──■─────────────■────■─────────────■────■──────────────────────■──»\n",
       "     ├───┤┌─┴─┐┌───────┐┌─┴─┐  │             │    │                      │  »\n",
       "q_1: ┤ H ├┤ X ├┤ Rz(π) ├┤ X ├──┼─────────────┼────┼──────■───────────────┼──»\n",
       "     ├───┤└───┘└───────┘└───┘┌─┴─┐┌───────┐┌─┴─┐  │    ┌─┴─┐  ┌───────┐  │  »\n",
       "q_2: ┤ H ├───────────────────┤ X ├┤ Rz(π) ├┤ X ├──┼────┤ X ├──┤ Rz(π) ├──┼──»\n",
       "     ├───┤                   └───┘└───────┘└───┘┌─┴─┐┌─┴───┴─┐└───────┘┌─┴─┐»\n",
       "q_3: ┤ H ├──────────────────────────────────────┤ X ├┤ Rz(π) ├─────────┤ X ├»\n",
       "     ├───┤                                      └───┘└───────┘         └───┘»\n",
       "q_4: ┤ H ├──────────────────────────────────────────────────────────────────»\n",
       "     └───┘                                                                  »\n",
       "c_0: ═══════════════════════════════════════════════════════════════════════»\n",
       "                                                                            »\n",
       "c_1: ═══════════════════════════════════════════════════════════════════════»\n",
       "                                                                            »\n",
       "c_2: ═══════════════════════════════════════════════════════════════════════»\n",
       "                                                                            »\n",
       "c_3: ═══════════════════════════════════════════════════════════════════════»\n",
       "                                                                            »\n",
       "c_4: ═══════════════════════════════════════════════════════════════════════»\n",
       "                                                                            »\n",
       "«                                      ┌──────────┐                            »\n",
       "«q_0: ───────■──────────────────────■──┤ Rx(2π/3) ├────────────────────────────»\n",
       "«            │                      │  └──────────┘                            »\n",
       "«q_1: ──■────┼──────■───────────────┼───────■────────■──────────────────────■──»\n",
       "«     ┌─┴─┐  │      │               │       │        │                      │  »\n",
       "«q_2: ┤ X ├──┼──────┼───────────────┼───────┼────────┼──────■───────────────┼──»\n",
       "«     └───┘  │    ┌─┴─┐  ┌───────┐  │     ┌─┴─┐      │    ┌─┴─┐  ┌───────┐  │  »\n",
       "«q_3: ───────┼────┤ X ├──┤ Rz(π) ├──┼─────┤ X ├──────┼────┤ X ├──┤ Rz(π) ├──┼──»\n",
       "«          ┌─┴─┐┌─┴───┴─┐└───────┘┌─┴─┐   └───┘    ┌─┴─┐┌─┴───┴─┐└───────┘┌─┴─┐»\n",
       "«q_4: ─────┤ X ├┤ Rz(π) ├─────────┤ X ├────────────┤ X ├┤ Rz(π) ├─────────┤ X ├»\n",
       "«          └───┘└───────┘         └───┘            └───┘└───────┘         └───┘»\n",
       "«c_0: ═════════════════════════════════════════════════════════════════════════»\n",
       "«                                                                              »\n",
       "«c_1: ═════════════════════════════════════════════════════════════════════════»\n",
       "«                                                                              »\n",
       "«c_2: ═════════════════════════════════════════════════════════════════════════»\n",
       "«                                                                              »\n",
       "«c_3: ═════════════════════════════════════════════════════════════════════════»\n",
       "«                                                                              »\n",
       "«c_4: ═════════════════════════════════════════════════════════════════════════»\n",
       "«                                                                              »\n",
       "«                                                                           ░ »\n",
       "«q_0: ──────────────────────────────────────────────────────────────────────░─»\n",
       "«     ┌──────────┐                                                          ░ »\n",
       "«q_1: ┤ Rx(2π/3) ├──────────────────────────────────────────────────────────░─»\n",
       "«     └──────────┘                   ┌──────────┐                           ░ »\n",
       "«q_2: ─────■────────■─────────────■──┤ Rx(2π/3) ├───────────────────────────░─»\n",
       "«        ┌─┴─┐      │             │  └──────────┘              ┌──────────┐ ░ »\n",
       "«q_3: ───┤ X ├──────┼─────────────┼───────■─────────────────■──┤ Rx(2π/3) ├─░─»\n",
       "«        └───┘    ┌─┴─┐┌───────┐┌─┴─┐   ┌─┴─┐    ┌───────┐┌─┴─┐├──────────┤ ░ »\n",
       "«q_4: ────────────┤ X ├┤ Rz(π) ├┤ X ├───┤ X ├────┤ Rz(π) ├┤ X ├┤ Rx(2π/3) ├─░─»\n",
       "«                 └───┘└───────┘└───┘   └───┘    └───────┘└───┘└──────────┘ ░ »\n",
       "«c_0: ════════════════════════════════════════════════════════════════════════»\n",
       "«                                                                             »\n",
       "«c_1: ════════════════════════════════════════════════════════════════════════»\n",
       "«                                                                             »\n",
       "«c_2: ════════════════════════════════════════════════════════════════════════»\n",
       "«                                                                             »\n",
       "«c_3: ════════════════════════════════════════════════════════════════════════»\n",
       "«                                                                             »\n",
       "«c_4: ════════════════════════════════════════════════════════════════════════»\n",
       "«                                                                             »\n",
       "«     ┌─┐            \n",
       "«q_0: ┤M├────────────\n",
       "«     └╥┘┌─┐         \n",
       "«q_1: ─╫─┤M├─────────\n",
       "«      ║ └╥┘┌─┐      \n",
       "«q_2: ─╫──╫─┤M├──────\n",
       "«      ║  ║ └╥┘┌─┐   \n",
       "«q_3: ─╫──╫──╫─┤M├───\n",
       "«      ║  ║  ║ └╥┘┌─┐\n",
       "«q_4: ─╫──╫──╫──╫─┤M├\n",
       "«      ║  ║  ║  ║ └╥┘\n",
       "«c_0: ═╩══╬══╬══╬══╬═\n",
       "«         ║  ║  ║  ║ \n",
       "«c_1: ════╩══╬══╬══╬═\n",
       "«            ║  ║  ║ \n",
       "«c_2: ═══════╩══╬══╬═\n",
       "«               ║  ║ \n",
       "«c_3: ══════════╩══╬═\n",
       "«                  ║ \n",
       "«c_4: ═════════════╩═\n",
       "«                    "
      ]
     },
     "execution_count": 9,
     "metadata": {},
     "output_type": "execute_result"
    }
   ],
   "source": [
    "qc = get_qaoa_circuit(G,[np.pi/3], [np.pi/2])\n",
    "qc.draw()"
   ]
  },
  {
   "cell_type": "code",
   "execution_count": 10,
   "id": "7fb42267",
   "metadata": {},
   "outputs": [],
   "source": [
    "def invert_counts(counts):\n",
    "    return {k[::-1]:v for k, v in counts.items()}"
   ]
  },
  {
   "cell_type": "code",
   "execution_count": 11,
   "id": "688656f6",
   "metadata": {},
   "outputs": [
    {
     "data": {
      "text/plain": [
       "[<IBMQSimulator('ibmq_qasm_simulator') from IBMQ(hub='ibm-q', group='open', project='main')>,\n",
       " <IBMQBackend('ibmq_lima') from IBMQ(hub='ibm-q', group='open', project='main')>,\n",
       " <IBMQBackend('ibmq_belem') from IBMQ(hub='ibm-q', group='open', project='main')>,\n",
       " <IBMQBackend('ibmq_quito') from IBMQ(hub='ibm-q', group='open', project='main')>,\n",
       " <IBMQSimulator('simulator_statevector') from IBMQ(hub='ibm-q', group='open', project='main')>,\n",
       " <IBMQSimulator('simulator_mps') from IBMQ(hub='ibm-q', group='open', project='main')>,\n",
       " <IBMQSimulator('simulator_extended_stabilizer') from IBMQ(hub='ibm-q', group='open', project='main')>,\n",
       " <IBMQSimulator('simulator_stabilizer') from IBMQ(hub='ibm-q', group='open', project='main')>,\n",
       " <IBMQBackend('ibmq_jakarta') from IBMQ(hub='ibm-q', group='open', project='main')>,\n",
       " <IBMQBackend('ibmq_manila') from IBMQ(hub='ibm-q', group='open', project='main')>,\n",
       " <IBMQBackend('ibm_lagos') from IBMQ(hub='ibm-q', group='open', project='main')>,\n",
       " <IBMQBackend('ibm_nairobi') from IBMQ(hub='ibm-q', group='open', project='main')>,\n",
       " <IBMQBackend('ibm_perth') from IBMQ(hub='ibm-q', group='open', project='main')>,\n",
       " <IBMQBackend('ibm_oslo') from IBMQ(hub='ibm-q', group='open', project='main')>]"
      ]
     },
     "execution_count": 11,
     "metadata": {},
     "output_type": "execute_result"
    }
   ],
   "source": [
    "from qiskit import IBMQ\n",
    "IBMQ.load_account()\n",
    "provider = IBMQ.get_provider(hub='ibm-q', group='open', project='main')\n",
    "provider.backends()"
   ]
  },
  {
   "cell_type": "code",
   "execution_count": 12,
   "id": "408bab85",
   "metadata": {},
   "outputs": [
    {
     "name": "stderr",
     "output_type": "stream",
     "text": [
      "ibmqfactory.load_account:WARNING:2023-03-14 17:44:45,807: Credentials are already in use. The existing account in the session will be replaced.\n"
     ]
    }
   ],
   "source": [
    "IBMQ.load_account()\n",
    "provider = IBMQ.get_provider(group='open')\n",
    "backend = provider.get_backend('ibmq_quito')\n",
    "qbackend = Aer.get_backend('qasm_simulator')"
   ]
  },
  {
   "cell_type": "code",
   "execution_count": 13,
   "id": "c5c474ee",
   "metadata": {},
   "outputs": [
    {
     "name": "stdout",
     "output_type": "stream",
     "text": [
      "{'01100': 35, '10010': 35, '00001': 33, '01010': 38, '10001': 43, '00010': 34, '11000': 25, '01111': 30, '11010': 24, '11111': 25, '11101': 35, '10101': 31, '10100': 37, '00110': 29, '01110': 31, '01001': 39, '10111': 30, '11001': 27, '00111': 30, '00011': 31, '01011': 24, '10110': 31, '10000': 39, '01000': 28, '01101': 42, '11011': 34, '10011': 28, '00000': 24, '00101': 26, '00100': 33, '11110': 33, '11100': 40}\n",
      "{'00000': 134, '10000': 96, '00001': 94, '10001': 77, '01001': 83, '11001': 73, '00101': 113, '10101': 95, '01101': 129, '11101': 112, '00011': 102, '10011': 71, '01011': 183, '11011': 132, '00111': 112, '10111': 116, '01111': 224, '11111': 239, '01000': 95, '11000': 71, '00100': 131, '10100': 137, '01100': 136, '11100': 160, '00010': 121, '10010': 90, '01010': 131, '11010': 118, '00110': 90, '10110': 129, '01110': 187, '11110': 219}\n"
     ]
    }
   ],
   "source": [
    "jobC = execute(qc, qbackend)\n",
    "jobQ = execute(qc, backend)\n",
    "\n",
    "resultC = jobC.result()\n",
    "resultQ = jobQ.result()\n",
    "print(invert_counts(resultC.get_counts()))\n",
    "print(invert_counts(resultQ.get_counts()))"
   ]
  },
  {
   "cell_type": "code",
   "execution_count": 14,
   "id": "2aabc86a",
   "metadata": {},
   "outputs": [
    {
     "data": {
      "text/plain": [
       "-6"
      ]
     },
     "execution_count": 14,
     "metadata": {},
     "output_type": "execute_result"
    }
   ],
   "source": [
    "def maxcut_obj(x,G):\n",
    "    cut = 0\n",
    "    for i, j in G.edges():\n",
    "        if x[i] != x[j]:\n",
    "            # the edge is cut\n",
    "            cut -= 1\n",
    "    return cut\n",
    "\n",
    "maxcut_obj('00011', G)"
   ]
  },
  {
   "cell_type": "code",
   "execution_count": 15,
   "id": "f51a9270",
   "metadata": {},
   "outputs": [
    {
     "name": "stdout",
     "output_type": "stream",
     "text": [
      "for simulator\n",
      "-5.0703125\n",
      "for quantum\n",
      "-4.7705\n"
     ]
    }
   ],
   "source": [
    "def compute_maxcut_energy(counts, G):\n",
    "    energy = 0\n",
    "    total_counts = 0\n",
    "    for meas, meas_count in counts.items():\n",
    "        obj_for_meas = maxcut_obj(meas, G)\n",
    "        energy += obj_for_meas * meas_count\n",
    "        total_counts += meas_count\n",
    "    return energy / total_counts\n",
    "\n",
    "print(\"for simulator\")\n",
    "print(compute_maxcut_energy(invert_counts(resultC.get_counts()), G))\n",
    "print(\"for quantum\")\n",
    "print(compute_maxcut_energy(invert_counts(resultQ.get_counts()), G))"
   ]
  },
  {
   "cell_type": "code",
   "execution_count": 16,
   "id": "79ea418b",
   "metadata": {},
   "outputs": [],
   "source": [
    "def get_black_box_objectiveC(G,p):\n",
    "    backend = Aer.get_backend('qasm_simulator')\n",
    "    def f(theta):\n",
    "        # let's assume first half is betas, second half is gammas\n",
    "        beta = theta[:p]\n",
    "        gamma = theta[p:]\n",
    "        qc = get_qaoa_circuit(G,beta, gamma)\n",
    "        counts = execute(qc, backend).result().get_counts()\n",
    "        # return the energy\n",
    "        return compute_maxcut_energy(invert_counts(counts), G)\n",
    "    return f\n",
    "\n",
    "def get_black_box_objectiveQ(G,p):\n",
    "    backend = Aer.get_backend('qasm_simulator')\n",
    "    def f(theta):\n",
    "        # let's assume first half is betas, second half is gammas\n",
    "        beta = theta[:p]\n",
    "        gamma = theta[p:]\n",
    "        qc = get_qaoa_circuit(G,beta, gamma)\n",
    "        counts = execute(qc, backend).result().get_counts()\n",
    "        # return the energy\n",
    "        return compute_maxcut_energy(invert_counts(counts), G)\n",
    "    return f"
   ]
  },
  {
   "cell_type": "code",
   "execution_count": 17,
   "id": "c8072408",
   "metadata": {},
   "outputs": [
    {
     "name": "stderr",
     "output_type": "stream",
     "text": [
      "C:\\Users\\prath\\AppData\\Local\\Temp\\ipykernel_19052\\1074017623.py:10: DeprecationWarning: The QuantumCircuit.__iadd__() method is being deprecated. Use the compose() (potentially with the inplace=True argument) and tensor() methods which are more flexible w.r.t circuit register compatibility.\n",
      "  qc += get_cost_operator_circuit(G,gamma[i])\n",
      "C:\\Users\\prath\\AppData\\Local\\Temp\\ipykernel_19052\\1074017623.py:11: DeprecationWarning: The QuantumCircuit.__iadd__() method is being deprecated. Use the compose() (potentially with the inplace=True argument) and tensor() methods which are more flexible w.r.t circuit register compatibility.\n",
      "  qc += get_mixer_operator_circuit(G,beta[i])\n"
     ]
    },
    {
     "data": {
      "text/plain": [
       "     fun: -5.978515625\n",
       "   maxcv: 0.0\n",
       " message: 'Optimization terminated successfully.'\n",
       "    nfev: 104\n",
       "  status: 1\n",
       " success: True\n",
       "       x: array([ 2.96385726,  1.90201625, -0.0103549 , -0.02505331,  1.06638262,\n",
       "        2.01269257, -0.09032703,  1.08613705,  0.91456461,  0.9909567 ])"
      ]
     },
     "execution_count": 17,
     "metadata": {},
     "output_type": "execute_result"
    }
   ],
   "source": [
    "p = 5\n",
    "objC = get_black_box_objectiveC(G, p)\n",
    "objQ = get_black_box_objectiveQ(G, p)\n",
    "\n",
    "my_array = []\n",
    "\n",
    "for i in range(2*p):\n",
    "    my_array.append(random.randint(0, 2))\n",
    "\n",
    "init_point = my_array\n",
    "# We are going to limit the number of iterations to 2500\n",
    "res_sampleC = minimize(objC, init_point, method='COBYLA', options={'maxiter':2500, 'disp': True})\n",
    "res_sampleQ = minimize(objQ, init_point, method='COBYLA', options={'maxiter':2500, 'disp': True})\n",
    "\n",
    "\n",
    "res_sampleC\n",
    "res_sampleQ"
   ]
  },
  {
   "cell_type": "code",
   "execution_count": 18,
   "id": "f628c4be",
   "metadata": {},
   "outputs": [
    {
     "name": "stderr",
     "output_type": "stream",
     "text": [
      "C:\\Users\\prath\\AppData\\Local\\Temp\\ipykernel_19052\\1074017623.py:10: DeprecationWarning: The QuantumCircuit.__iadd__() method is being deprecated. Use the compose() (potentially with the inplace=True argument) and tensor() methods which are more flexible w.r.t circuit register compatibility.\n",
      "  qc += get_cost_operator_circuit(G,gamma[i])\n",
      "C:\\Users\\prath\\AppData\\Local\\Temp\\ipykernel_19052\\1074017623.py:11: DeprecationWarning: The QuantumCircuit.__iadd__() method is being deprecated. Use the compose() (potentially with the inplace=True argument) and tensor() methods which are more flexible w.r.t circuit register compatibility.\n",
      "  qc += get_mixer_operator_circuit(G,beta[i])\n"
     ]
    },
    {
     "data": {
      "text/plain": [
       "{'11011': 34,\n",
       " '01101': 33,\n",
       " '01011': 33,\n",
       " '00000': 35,\n",
       " '10011': 32,\n",
       " '10000': 29,\n",
       " '01100': 28,\n",
       " '10110': 24,\n",
       " '01110': 43,\n",
       " '10001': 33,\n",
       " '11010': 39,\n",
       " '11101': 30,\n",
       " '10111': 38,\n",
       " '01000': 36,\n",
       " '00010': 35,\n",
       " '10101': 33,\n",
       " '01010': 29,\n",
       " '10010': 30,\n",
       " '00110': 27,\n",
       " '11111': 32,\n",
       " '01111': 26,\n",
       " '00011': 27,\n",
       " '00001': 38,\n",
       " '11001': 35,\n",
       " '01001': 33,\n",
       " '00101': 27,\n",
       " '11110': 18,\n",
       " '00111': 26,\n",
       " '10100': 30,\n",
       " '11000': 46,\n",
       " '11100': 30,\n",
       " '00100': 35}"
      ]
     },
     "execution_count": 18,
     "metadata": {},
     "output_type": "execute_result"
    }
   ],
   "source": [
    "backend = provider.get_backend('ibmq_quito')\n",
    "qbackend = Aer.get_backend('qasm_simulator')\n",
    "optimal_thetaC = res_sampleC['x']\n",
    "optimal_thetaQ = res_sampleQ['x']\n",
    "\n",
    "qcC = get_qaoa_circuit(G, optimal_thetaC[:p], optimal_thetaC[p:])\n",
    "qcQ = get_qaoa_circuit(G, optimal_thetaQ[:p], optimal_thetaQ[p:])\n",
    "countsQ = invert_counts(execute(qc, backend).result().get_counts())\n",
    "countsC = invert_counts(execute(qc, qbackend).result().get_counts())\n",
    "\n",
    "countsQ\n",
    "countsC"
   ]
  },
  {
   "cell_type": "code",
   "execution_count": 21,
   "id": "10f9c177",
   "metadata": {},
   "outputs": [
    {
     "name": "stdout",
     "output_type": "stream",
     "text": [
      "blue is classical while orange is quantum\n"
     ]
    },
    {
     "data": {
      "text/plain": [
       "<BarContainer object of 3 artists>"
      ]
     },
     "execution_count": 21,
     "metadata": {},
     "output_type": "execute_result"
    },
    {
     "data": {
      "image/png": "[encoded data removed]",
      "text/plain": [
       "<Figure size 640x480 with 1 Axes>"
      ]
     },
     "metadata": {},
     "output_type": "display_data"
    }
   ],
   "source": [
    "energiesQ = defaultdict(int)\n",
    "for k, v in countsQ.items():\n",
    "    energiesQ[maxcut_obj(k,G)] += v\n",
    "\n",
    "energiesC = defaultdict(int)    \n",
    "for k, v in countsC.items():\n",
    "    energiesC[maxcut_obj(k,G)] += v\n",
    "    \n",
    "x,y = zip(*energiesQ.items())\n",
    "a,b = zip(*energiesC.items())\n",
    "print(\"blue is classical while orange is quantum\")\n",
    "plt.bar(x,y)\n",
    "#plt.bar(a,b)"
   ]
  },
  {
   "cell_type": "code",
   "execution_count": 20,
   "id": "fed42261",
   "metadata": {},
   "outputs": [
    {
     "ename": "NameError",
     "evalue": "name 'counts' is not defined",
     "output_type": "error",
     "traceback": [
      "\u001b[1;31m---------------------------------------------------------------------------\u001b[0m",
      "\u001b[1;31mNameError\u001b[0m                                 Traceback (most recent call last)",
      "\u001b[1;32m~\\AppData\\Local\\Temp\\ipykernel_19052\\2159288410.py\u001b[0m in \u001b[0;36m<module>\u001b[1;34m\u001b[0m\n\u001b[0;32m      1\u001b[0m \u001b[1;31m# get the best solution:\u001b[0m\u001b[1;33m\u001b[0m\u001b[1;33m\u001b[0m\u001b[0m\n\u001b[1;32m----> 2\u001b[1;33m \u001b[0mbest_cut\u001b[0m\u001b[1;33m,\u001b[0m \u001b[0mbest_solution\u001b[0m \u001b[1;33m=\u001b[0m \u001b[0mmin\u001b[0m\u001b[1;33m(\u001b[0m\u001b[1;33m[\u001b[0m\u001b[1;33m(\u001b[0m\u001b[0mmaxcut_obj\u001b[0m\u001b[1;33m(\u001b[0m\u001b[0mx\u001b[0m\u001b[1;33m,\u001b[0m\u001b[0mG\u001b[0m\u001b[1;33m)\u001b[0m\u001b[1;33m,\u001b[0m\u001b[0mx\u001b[0m\u001b[1;33m)\u001b[0m \u001b[1;32mfor\u001b[0m \u001b[0mx\u001b[0m \u001b[1;32min\u001b[0m \u001b[0mcounts\u001b[0m\u001b[1;33m.\u001b[0m\u001b[0mkeys\u001b[0m\u001b[1;33m(\u001b[0m\u001b[1;33m)\u001b[0m\u001b[1;33m]\u001b[0m\u001b[1;33m,\u001b[0m \u001b[0mkey\u001b[0m\u001b[1;33m=\u001b[0m\u001b[0mitemgetter\u001b[0m\u001b[1;33m(\u001b[0m\u001b[1;36m0\u001b[0m\u001b[1;33m)\u001b[0m\u001b[1;33m)\u001b[0m\u001b[1;33m\u001b[0m\u001b[1;33m\u001b[0m\u001b[0m\n\u001b[0m\u001b[0;32m      3\u001b[0m \u001b[0mprint\u001b[0m\u001b[1;33m(\u001b[0m\u001b[1;34mf\"Best string: {best_solution} with cut: {-best_cut}\"\u001b[0m\u001b[1;33m)\u001b[0m\u001b[1;33m\u001b[0m\u001b[1;33m\u001b[0m\u001b[0m\n\u001b[0;32m      4\u001b[0m \u001b[1;33m\u001b[0m\u001b[0m\n\u001b[0;32m      5\u001b[0m \u001b[1;31m# color the graph nodes by part\u001b[0m\u001b[1;33m\u001b[0m\u001b[1;33m\u001b[0m\u001b[0m\n",
      "\u001b[1;31mNameError\u001b[0m: name 'counts' is not defined"
     ]
    }
   ],
   "source": [
    "# get the best solution:\n",
    "best_cut, best_solution = min([(maxcut_obj(x,G),x) for x in counts.keys()], key=itemgetter(0))\n",
    "print(f\"Best string: {best_solution} with cut: {-best_cut}\")\n",
    "\n",
    "# color the graph nodes by part\n",
    "colors = ['r' if best_solution[node] == '0' else 'b' for node in G]\n",
    "nx.draw(G,node_color = colors, pos=pos)"
   ]
  },
  {
   "cell_type": "code",
   "execution_count": null,
   "id": "f8721adf",
   "metadata": {},
   "outputs": [],
   "source": []
  }
 ],
 "metadata": {
  "kernelspec": {
   "display_name": "Python 3 (ipykernel)",
   "language": "python",
   "name": "python3"
  },
  "language_info": {
   "codemirror_mode": {
    "name": "ipython",
    "version": 3
   },
   "file_extension": ".py",
   "mimetype": "text/x-python",
   "name": "python",
   "nbconvert_exporter": "python",
   "pygments_lexer": "ipython3",
   "version": "3.9.13"
  }
 },
 "nbformat": 4,
 "nbformat_minor": 5
}
