{
 "cells": [
  {
   "cell_type": "code",
   "execution_count": 1,
   "id": "0961207e",
   "metadata": {
    "scrolled": true
   },
   "outputs": [
    {
     "data": {
      "text/plain": [
       "{'qiskit-terra': '0.22.2', 'qiskit-aer': '0.11.1', 'qiskit-ignis': None, 'qiskit-ibmq-provider': '0.19.2', 'qiskit': '0.39.2', 'qiskit-nature': None, 'qiskit-finance': None, 'qiskit-optimization': None, 'qiskit-machine-learning': None}"
      ]
     },
     "execution_count": 1,
     "metadata": {},
     "output_type": "execute_result"
    }
   ],
   "source": [
    "import qiskit\n",
    "qiskit.__qiskit_version__"
   ]
  },
  {
   "cell_type": "code",
   "execution_count": 2,
   "id": "c181f76d",
   "metadata": {},
   "outputs": [],
   "source": [
    "import numpy as np\n",
    "import networkx as nx\n",
    "import matplotlib.pyplot as plt\n",
    "from collections import defaultdict\n",
    "from operator import itemgetter\n",
    "from scipy.optimize import minimize\n",
    "from qiskit import QuantumCircuit, QuantumRegister, ClassicalRegister, execute, Aer\n",
    "from qiskit import *"
   ]
  },
  {
   "cell_type": "code",
   "execution_count": 3,
   "id": "56bc63e8",
   "metadata": {},
   "outputs": [
    {
     "data": {
      "image/png": "[encoded data removed]",
      "text/plain": [
       "<Figure size 640x480 with 1 Axes>"
      ]
     },
     "metadata": {},
     "output_type": "display_data"
    }
   ],
   "source": [
    "\"\"\"G = nx.Graph()\n",
    "G.add_edges_from([[0,3],[0,4],[1,3],[1,4],[2,3],[2,4]])\n",
    "nx.draw(G, pos=nx.bipartite_layout(G, [0,1,2]))\"\"\"\n",
    "\n",
    "seed = 452002\n",
    "G = nx.complete_graph(5)\n",
    "pos = {\n",
    "    0: (0, 0),\n",
    "    1: (1, 0),\n",
    "    2: (2, 0),\n",
    "    3: (0.5, 1),\n",
    "    4: (1.5, 1),\n",
    "}\n",
    "nx.draw(G, pos=pos, with_labels=True)"
   ]
  },
  {
   "cell_type": "code",
   "execution_count": 4,
   "id": "1c1a7175",
   "metadata": {},
   "outputs": [],
   "source": [
    "def append_zz_term(qc, q1, q2, gamma):\n",
    "    qc.cx(q1,q2)\n",
    "    qc.rz(2*gamma, q2)\n",
    "    qc.cx(q1,q2)\n",
    "\n",
    "def get_cost_operator_circuit(G, gamma):\n",
    "    N = G.number_of_nodes()\n",
    "    qc = QuantumCircuit(N,N)\n",
    "    for i, j in G.edges():\n",
    "        append_zz_term(qc, i, j, gamma)\n",
    "    return qc\n",
    "    "
   ]
  },
  {
   "cell_type": "code",
   "execution_count": 5,
   "id": "c74f55dd",
   "metadata": {},
   "outputs": [
    {
     "data": {
      "text/html": [
       "<pre style=\"word-wrap: normal;white-space: pre;background: #fff0;line-height: 1.1;font-family: &quot;Courier New&quot;,Courier,monospace\">                                                                              »\n",
       "q_0: ──■────────────────■────■────────────────■────■──────────────────────────»\n",
       "     ┌─┴─┐┌──────────┐┌─┴─┐  │                │    │                          »\n",
       "q_1: ┤ X ├┤ Rz(2π/3) ├┤ X ├──┼────────────────┼────┼───────■──────────────────»\n",
       "     └───┘└──────────┘└───┘┌─┴─┐┌──────────┐┌─┴─┐  │     ┌─┴─┐    ┌──────────┐»\n",
       "q_2: ──────────────────────┤ X ├┤ Rz(2π/3) ├┤ X ├──┼─────┤ X ├────┤ Rz(2π/3) ├»\n",
       "                           └───┘└──────────┘└───┘┌─┴─┐┌──┴───┴───┐└──────────┘»\n",
       "q_3: ────────────────────────────────────────────┤ X ├┤ Rz(2π/3) ├────────────»\n",
       "                                                 └───┘└──────────┘            »\n",
       "q_4: ─────────────────────────────────────────────────────────────────────────»\n",
       "                                                                              »\n",
       "c_0: ═════════════════════════════════════════════════════════════════════════»\n",
       "                                                                              »\n",
       "c_1: ═════════════════════════════════════════════════════════════════════════»\n",
       "                                                                              »\n",
       "c_2: ═════════════════════════════════════════════════════════════════════════»\n",
       "                                                                              »\n",
       "c_3: ═════════════════════════════════════════════════════════════════════════»\n",
       "                                                                              »\n",
       "c_4: ═════════════════════════════════════════════════════════════════════════»\n",
       "                                                                              »\n",
       "«                                                                       »\n",
       "«q_0: ──■─────────■────────────────────────────■────────────────────────»\n",
       "«       │         │                            │                        »\n",
       "«q_1: ──┼────■────┼───────■────────────────────┼────■────■──────────────»\n",
       "«       │  ┌─┴─┐  │       │                    │    │    │              »\n",
       "«q_2: ──┼──┤ X ├──┼───────┼────────────────────┼────┼────┼───────■──────»\n",
       "«     ┌─┴─┐└───┘  │     ┌─┴─┐    ┌──────────┐  │  ┌─┴─┐  │     ┌─┴─┐    »\n",
       "«q_3: ┤ X ├───────┼─────┤ X ├────┤ Rz(2π/3) ├──┼──┤ X ├──┼─────┤ X ├────»\n",
       "«     └───┘     ┌─┴─┐┌──┴───┴───┐└──────────┘┌─┴─┐└───┘┌─┴─┐┌──┴───┴───┐»\n",
       "«q_4: ──────────┤ X ├┤ Rz(2π/3) ├────────────┤ X ├─────┤ X ├┤ Rz(2π/3) ├»\n",
       "«               └───┘└──────────┘            └───┘     └───┘└──────────┘»\n",
       "«c_0: ══════════════════════════════════════════════════════════════════»\n",
       "«                                                                       »\n",
       "«c_1: ══════════════════════════════════════════════════════════════════»\n",
       "«                                                                       »\n",
       "«c_2: ══════════════════════════════════════════════════════════════════»\n",
       "«                                                                       »\n",
       "«c_3: ══════════════════════════════════════════════════════════════════»\n",
       "«                                                                       »\n",
       "«c_4: ══════════════════════════════════════════════════════════════════»\n",
       "«                                                                       »\n",
       "«                                                                       \n",
       "«q_0: ──────────────────────────────────────────────────────────────────\n",
       "«                                                                       \n",
       "«q_1: ──────────────■───────────────────────────────────────────────────\n",
       "«                   │                                                   \n",
       "«q_2: ──────────────┼────■────■────────────────■────────────────────────\n",
       "«     ┌──────────┐  │  ┌─┴─┐  │                │                        \n",
       "«q_3: ┤ Rz(2π/3) ├──┼──┤ X ├──┼────────────────┼────■────────────────■──\n",
       "«     └──────────┘┌─┴─┐└───┘┌─┴─┐┌──────────┐┌─┴─┐┌─┴─┐┌──────────┐┌─┴─┐\n",
       "«q_4: ────────────┤ X ├─────┤ X ├┤ Rz(2π/3) ├┤ X ├┤ X ├┤ Rz(2π/3) ├┤ X ├\n",
       "«                 └───┘     └───┘└──────────┘└───┘└───┘└──────────┘└───┘\n",
       "«c_0: ══════════════════════════════════════════════════════════════════\n",
       "«                                                                       \n",
       "«c_1: ══════════════════════════════════════════════════════════════════\n",
       "«                                                                       \n",
       "«c_2: ══════════════════════════════════════════════════════════════════\n",
       "«                                                                       \n",
       "«c_3: ══════════════════════════════════════════════════════════════════\n",
       "«                                                                       \n",
       "«c_4: ══════════════════════════════════════════════════════════════════\n",
       "«                                                                       </pre>"
      ],
      "text/plain": [
       "                                                                              »\n",
       "q_0: ──■────────────────■────■────────────────■────■──────────────────────────»\n",
       "     ┌─┴─┐┌──────────┐┌─┴─┐  │                │    │                          »\n",
       "q_1: ┤ X ├┤ Rz(2π/3) ├┤ X ├──┼────────────────┼────┼───────■──────────────────»\n",
       "     └───┘└──────────┘└───┘┌─┴─┐┌──────────┐┌─┴─┐  │     ┌─┴─┐    ┌──────────┐»\n",
       "q_2: ──────────────────────┤ X ├┤ Rz(2π/3) ├┤ X ├──┼─────┤ X ├────┤ Rz(2π/3) ├»\n",
       "                           └───┘└──────────┘└───┘┌─┴─┐┌──┴───┴───┐└──────────┘»\n",
       "q_3: ────────────────────────────────────────────┤ X ├┤ Rz(2π/3) ├────────────»\n",
       "                                                 └───┘└──────────┘            »\n",
       "q_4: ─────────────────────────────────────────────────────────────────────────»\n",
       "                                                                              »\n",
       "c_0: ═════════════════════════════════════════════════════════════════════════»\n",
       "                                                                              »\n",
       "c_1: ═════════════════════════════════════════════════════════════════════════»\n",
       "                                                                              »\n",
       "c_2: ═════════════════════════════════════════════════════════════════════════»\n",
       "                                                                              »\n",
       "c_3: ═════════════════════════════════════════════════════════════════════════»\n",
       "                                                                              »\n",
       "c_4: ═════════════════════════════════════════════════════════════════════════»\n",
       "                                                                              »\n",
       "«                                                                       »\n",
       "«q_0: ──■─────────■────────────────────────────■────────────────────────»\n",
       "«       │         │                            │                        »\n",
       "«q_1: ──┼────■────┼───────■────────────────────┼────■────■──────────────»\n",
       "«       │  ┌─┴─┐  │       │                    │    │    │              »\n",
       "«q_2: ──┼──┤ X ├──┼───────┼────────────────────┼────┼────┼───────■──────»\n",
       "«     ┌─┴─┐└───┘  │     ┌─┴─┐    ┌──────────┐  │  ┌─┴─┐  │     ┌─┴─┐    »\n",
       "«q_3: ┤ X ├───────┼─────┤ X ├────┤ Rz(2π/3) ├──┼──┤ X ├──┼─────┤ X ├────»\n",
       "«     └───┘     ┌─┴─┐┌──┴───┴───┐└──────────┘┌─┴─┐└───┘┌─┴─┐┌──┴───┴───┐»\n",
       "«q_4: ──────────┤ X ├┤ Rz(2π/3) ├────────────┤ X ├─────┤ X ├┤ Rz(2π/3) ├»\n",
       "«               └───┘└──────────┘            └───┘     └───┘└──────────┘»\n",
       "«c_0: ══════════════════════════════════════════════════════════════════»\n",
       "«                                                                       »\n",
       "«c_1: ══════════════════════════════════════════════════════════════════»\n",
       "«                                                                       »\n",
       "«c_2: ══════════════════════════════════════════════════════════════════»\n",
       "«                                                                       »\n",
       "«c_3: ══════════════════════════════════════════════════════════════════»\n",
       "«                                                                       »\n",
       "«c_4: ══════════════════════════════════════════════════════════════════»\n",
       "«                                                                       »\n",
       "«                                                                       \n",
       "«q_0: ──────────────────────────────────────────────────────────────────\n",
       "«                                                                       \n",
       "«q_1: ──────────────■───────────────────────────────────────────────────\n",
       "«                   │                                                   \n",
       "«q_2: ──────────────┼────■────■────────────────■────────────────────────\n",
       "«     ┌──────────┐  │  ┌─┴─┐  │                │                        \n",
       "«q_3: ┤ Rz(2π/3) ├──┼──┤ X ├──┼────────────────┼────■────────────────■──\n",
       "«     └──────────┘┌─┴─┐└───┘┌─┴─┐┌──────────┐┌─┴─┐┌─┴─┐┌──────────┐┌─┴─┐\n",
       "«q_4: ────────────┤ X ├─────┤ X ├┤ Rz(2π/3) ├┤ X ├┤ X ├┤ Rz(2π/3) ├┤ X ├\n",
       "«                 └───┘     └───┘└──────────┘└───┘└───┘└──────────┘└───┘\n",
       "«c_0: ══════════════════════════════════════════════════════════════════\n",
       "«                                                                       \n",
       "«c_1: ══════════════════════════════════════════════════════════════════\n",
       "«                                                                       \n",
       "«c_2: ══════════════════════════════════════════════════════════════════\n",
       "«                                                                       \n",
       "«c_3: ══════════════════════════════════════════════════════════════════\n",
       "«                                                                       \n",
       "«c_4: ══════════════════════════════════════════════════════════════════\n",
       "«                                                                       "
      ]
     },
     "execution_count": 5,
     "metadata": {},
     "output_type": "execute_result"
    }
   ],
   "source": [
    "qc = get_cost_operator_circuit(G, np.pi / 3)\n",
    "qc.draw()"
   ]
  },
  {
   "cell_type": "code",
   "execution_count": 6,
   "id": "bbe80eba",
   "metadata": {},
   "outputs": [],
   "source": [
    "def append_x_term(qc, q1, beta):\n",
    "    qc.rx(2*beta, q1)\n",
    "\n",
    "def get_mixer_operator_circuit(G, beta):\n",
    "    N = G.number_of_nodes()\n",
    "    qc = QuantumCircuit(N,N)\n",
    "    for n in G.nodes():\n",
    "        append_x_term(qc, n, beta)\n",
    "    return qc"
   ]
  },
  {
   "cell_type": "code",
   "execution_count": 7,
   "id": "bcafe9cc",
   "metadata": {},
   "outputs": [
    {
     "data": {
      "text/html": [
       "<pre style=\"word-wrap: normal;white-space: pre;background: #fff0;line-height: 1.1;font-family: &quot;Courier New&quot;,Courier,monospace\">     ┌──────────┐\n",
       "q_0: ┤ Rx(2π/3) ├\n",
       "     ├──────────┤\n",
       "q_1: ┤ Rx(2π/3) ├\n",
       "     ├──────────┤\n",
       "q_2: ┤ Rx(2π/3) ├\n",
       "     ├──────────┤\n",
       "q_3: ┤ Rx(2π/3) ├\n",
       "     ├──────────┤\n",
       "q_4: ┤ Rx(2π/3) ├\n",
       "     └──────────┘\n",
       "c_0: ════════════\n",
       "                 \n",
       "c_1: ════════════\n",
       "                 \n",
       "c_2: ════════════\n",
       "                 \n",
       "c_3: ════════════\n",
       "                 \n",
       "c_4: ════════════\n",
       "                 </pre>"
      ],
      "text/plain": [
       "     ┌──────────┐\n",
       "q_0: ┤ Rx(2π/3) ├\n",
       "     ├──────────┤\n",
       "q_1: ┤ Rx(2π/3) ├\n",
       "     ├──────────┤\n",
       "q_2: ┤ Rx(2π/3) ├\n",
       "     ├──────────┤\n",
       "q_3: ┤ Rx(2π/3) ├\n",
       "     ├──────────┤\n",
       "q_4: ┤ Rx(2π/3) ├\n",
       "     └──────────┘\n",
       "c_0: ════════════\n",
       "                 \n",
       "c_1: ════════════\n",
       "                 \n",
       "c_2: ════════════\n",
       "                 \n",
       "c_3: ════════════\n",
       "                 \n",
       "c_4: ════════════\n",
       "                 "
      ]
     },
     "execution_count": 7,
     "metadata": {},
     "output_type": "execute_result"
    }
   ],
   "source": [
    "qc = get_mixer_operator_circuit(G, np.pi/3)\n",
    "qc.draw()"
   ]
  },
  {
   "cell_type": "code",
   "execution_count": 8,
   "id": "0ac325df",
   "metadata": {},
   "outputs": [],
   "source": [
    "def get_qaoa_circuit(G, beta, gamma):\n",
    "    assert(len(beta) == len(gamma))\n",
    "    p = len(beta) # infering number of QAOA steps from the parameters passed\n",
    "    N = G.number_of_nodes()\n",
    "    qc = QuantumCircuit(N,N)\n",
    "    # first, apply a layer of Hadamards\n",
    "    qc.h(range(N))\n",
    "    # second, apply p alternating operators\n",
    "    for i in range(p):\n",
    "        qc += get_cost_operator_circuit(G,gamma[i])\n",
    "        qc += get_mixer_operator_circuit(G,beta[i])\n",
    "    # finally, do not forget to measure the result!\n",
    "    qc.barrier(range(N))\n",
    "    qc.measure(range(N), range(N))\n",
    "    return qc"
   ]
  },
  {
   "cell_type": "code",
   "execution_count": 9,
   "id": "2cb55b3d",
   "metadata": {},
   "outputs": [
    {
     "name": "stderr",
     "output_type": "stream",
     "text": [
      "C:\\Users\\prath\\AppData\\Local\\Temp\\ipykernel_30868\\1074017623.py:10: DeprecationWarning: The QuantumCircuit.__iadd__() method is being deprecated. Use the compose() (potentially with the inplace=True argument) and tensor() methods which are more flexible w.r.t circuit register compatibility.\n",
      "  qc += get_cost_operator_circuit(G,gamma[i])\n",
      "C:\\Users\\prath\\AppData\\Local\\Temp\\ipykernel_30868\\1074017623.py:11: DeprecationWarning: The QuantumCircuit.__iadd__() method is being deprecated. Use the compose() (potentially with the inplace=True argument) and tensor() methods which are more flexible w.r.t circuit register compatibility.\n",
      "  qc += get_mixer_operator_circuit(G,beta[i])\n"
     ]
    },
    {
     "data": {
      "text/html": [
       "<pre style=\"word-wrap: normal;white-space: pre;background: #fff0;line-height: 1.1;font-family: &quot;Courier New&quot;,Courier,monospace\">     ┌───┐                                                                  »\n",
       "q_0: ┤ H ├──■─────────────■────■─────────────■────■──────────────────────■──»\n",
       "     ├───┤┌─┴─┐┌───────┐┌─┴─┐  │             │    │                      │  »\n",
       "q_1: ┤ H ├┤ X ├┤ Rz(π) ├┤ X ├──┼─────────────┼────┼──────■───────────────┼──»\n",
       "     ├───┤└───┘└───────┘└───┘┌─┴─┐┌───────┐┌─┴─┐  │    ┌─┴─┐  ┌───────┐  │  »\n",
       "q_2: ┤ H ├───────────────────┤ X ├┤ Rz(π) ├┤ X ├──┼────┤ X ├──┤ Rz(π) ├──┼──»\n",
       "     ├───┤                   └───┘└───────┘└───┘┌─┴─┐┌─┴───┴─┐└───────┘┌─┴─┐»\n",
       "q_3: ┤ H ├──────────────────────────────────────┤ X ├┤ Rz(π) ├─────────┤ X ├»\n",
       "     ├───┤                                      └───┘└───────┘         └───┘»\n",
       "q_4: ┤ H ├──────────────────────────────────────────────────────────────────»\n",
       "     └───┘                                                                  »\n",
       "c_0: ═══════════════════════════════════════════════════════════════════════»\n",
       "                                                                            »\n",
       "c_1: ═══════════════════════════════════════════════════════════════════════»\n",
       "                                                                            »\n",
       "c_2: ═══════════════════════════════════════════════════════════════════════»\n",
       "                                                                            »\n",
       "c_3: ═══════════════════════════════════════════════════════════════════════»\n",
       "                                                                            »\n",
       "c_4: ═══════════════════════════════════════════════════════════════════════»\n",
       "                                                                            »\n",
       "«                                      ┌──────────┐                            »\n",
       "«q_0: ───────■──────────────────────■──┤ Rx(2π/3) ├────────────────────────────»\n",
       "«            │                      │  └──────────┘                            »\n",
       "«q_1: ──■────┼──────■───────────────┼───────■────────■──────────────────────■──»\n",
       "«     ┌─┴─┐  │      │               │       │        │                      │  »\n",
       "«q_2: ┤ X ├──┼──────┼───────────────┼───────┼────────┼──────■───────────────┼──»\n",
       "«     └───┘  │    ┌─┴─┐  ┌───────┐  │     ┌─┴─┐      │    ┌─┴─┐  ┌───────┐  │  »\n",
       "«q_3: ───────┼────┤ X ├──┤ Rz(π) ├──┼─────┤ X ├──────┼────┤ X ├──┤ Rz(π) ├──┼──»\n",
       "«          ┌─┴─┐┌─┴───┴─┐└───────┘┌─┴─┐   └───┘    ┌─┴─┐┌─┴───┴─┐└───────┘┌─┴─┐»\n",
       "«q_4: ─────┤ X ├┤ Rz(π) ├─────────┤ X ├────────────┤ X ├┤ Rz(π) ├─────────┤ X ├»\n",
       "«          └───┘└───────┘         └───┘            └───┘└───────┘         └───┘»\n",
       "«c_0: ═════════════════════════════════════════════════════════════════════════»\n",
       "«                                                                              »\n",
       "«c_1: ═════════════════════════════════════════════════════════════════════════»\n",
       "«                                                                              »\n",
       "«c_2: ═════════════════════════════════════════════════════════════════════════»\n",
       "«                                                                              »\n",
       "«c_3: ═════════════════════════════════════════════════════════════════════════»\n",
       "«                                                                              »\n",
       "«c_4: ═════════════════════════════════════════════════════════════════════════»\n",
       "«                                                                              »\n",
       "«                                                                           ░ »\n",
       "«q_0: ──────────────────────────────────────────────────────────────────────░─»\n",
       "«     ┌──────────┐                                                          ░ »\n",
       "«q_1: ┤ Rx(2π/3) ├──────────────────────────────────────────────────────────░─»\n",
       "«     └──────────┘                   ┌──────────┐                           ░ »\n",
       "«q_2: ─────■────────■─────────────■──┤ Rx(2π/3) ├───────────────────────────░─»\n",
       "«        ┌─┴─┐      │             │  └──────────┘              ┌──────────┐ ░ »\n",
       "«q_3: ───┤ X ├──────┼─────────────┼───────■─────────────────■──┤ Rx(2π/3) ├─░─»\n",
       "«        └───┘    ┌─┴─┐┌───────┐┌─┴─┐   ┌─┴─┐    ┌───────┐┌─┴─┐├──────────┤ ░ »\n",
       "«q_4: ────────────┤ X ├┤ Rz(π) ├┤ X ├───┤ X ├────┤ Rz(π) ├┤ X ├┤ Rx(2π/3) ├─░─»\n",
       "«                 └───┘└───────┘└───┘   └───┘    └───────┘└───┘└──────────┘ ░ »\n",
       "«c_0: ════════════════════════════════════════════════════════════════════════»\n",
       "«                                                                             »\n",
       "«c_1: ════════════════════════════════════════════════════════════════════════»\n",
       "«                                                                             »\n",
       "«c_2: ════════════════════════════════════════════════════════════════════════»\n",
       "«                                                                             »\n",
       "«c_3: ════════════════════════════════════════════════════════════════════════»\n",
       "«                                                                             »\n",
       "«c_4: ════════════════════════════════════════════════════════════════════════»\n",
       "«                                                                             »\n",
       "«     ┌─┐            \n",
       "«q_0: ┤M├────────────\n",
       "«     └╥┘┌─┐         \n",
       "«q_1: ─╫─┤M├─────────\n",
       "«      ║ └╥┘┌─┐      \n",
       "«q_2: ─╫──╫─┤M├──────\n",
       "«      ║  ║ └╥┘┌─┐   \n",
       "«q_3: ─╫──╫──╫─┤M├───\n",
       "«      ║  ║  ║ └╥┘┌─┐\n",
       "«q_4: ─╫──╫──╫──╫─┤M├\n",
       "«      ║  ║  ║  ║ └╥┘\n",
       "«c_0: ═╩══╬══╬══╬══╬═\n",
       "«         ║  ║  ║  ║ \n",
       "«c_1: ════╩══╬══╬══╬═\n",
       "«            ║  ║  ║ \n",
       "«c_2: ═══════╩══╬══╬═\n",
       "«               ║  ║ \n",
       "«c_3: ══════════╩══╬═\n",
       "«                  ║ \n",
       "«c_4: ═════════════╩═\n",
       "«                    </pre>"
      ],
      "text/plain": [
       "     ┌───┐                                                                  »\n",
       "q_0: ┤ H ├──■─────────────■────■─────────────■────■──────────────────────■──»\n",
       "     ├───┤┌─┴─┐┌───────┐┌─┴─┐  │             │    │                      │  »\n",
       "q_1: ┤ H ├┤ X ├┤ Rz(π) ├┤ X ├──┼─────────────┼────┼──────■───────────────┼──»\n",
       "     ├───┤└───┘└───────┘└───┘┌─┴─┐┌───────┐┌─┴─┐  │    ┌─┴─┐  ┌───────┐  │  »\n",
       "q_2: ┤ H ├───────────────────┤ X ├┤ Rz(π) ├┤ X ├──┼────┤ X ├──┤ Rz(π) ├──┼──»\n",
       "     ├───┤                   └───┘└───────┘└───┘┌─┴─┐┌─┴───┴─┐└───────┘┌─┴─┐»\n",
       "q_3: ┤ H ├──────────────────────────────────────┤ X ├┤ Rz(π) ├─────────┤ X ├»\n",
       "     ├───┤                                      └───┘└───────┘         └───┘»\n",
       "q_4: ┤ H ├──────────────────────────────────────────────────────────────────»\n",
       "     └───┘                                                                  »\n",
       "c_0: ═══════════════════════════════════════════════════════════════════════»\n",
       "                                                                            »\n",
       "c_1: ═══════════════════════════════════════════════════════════════════════»\n",
       "                                                                            »\n",
       "c_2: ═══════════════════════════════════════════════════════════════════════»\n",
       "                                                                            »\n",
       "c_3: ═══════════════════════════════════════════════════════════════════════»\n",
       "                                                                            »\n",
       "c_4: ═══════════════════════════════════════════════════════════════════════»\n",
       "                                                                            »\n",
       "«                                      ┌──────────┐                            »\n",
       "«q_0: ───────■──────────────────────■──┤ Rx(2π/3) ├────────────────────────────»\n",
       "«            │                      │  └──────────┘                            »\n",
       "«q_1: ──■────┼──────■───────────────┼───────■────────■──────────────────────■──»\n",
       "«     ┌─┴─┐  │      │               │       │        │                      │  »\n",
       "«q_2: ┤ X ├──┼──────┼───────────────┼───────┼────────┼──────■───────────────┼──»\n",
       "«     └───┘  │    ┌─┴─┐  ┌───────┐  │     ┌─┴─┐      │    ┌─┴─┐  ┌───────┐  │  »\n",
       "«q_3: ───────┼────┤ X ├──┤ Rz(π) ├──┼─────┤ X ├──────┼────┤ X ├──┤ Rz(π) ├──┼──»\n",
       "«          ┌─┴─┐┌─┴───┴─┐└───────┘┌─┴─┐   └───┘    ┌─┴─┐┌─┴───┴─┐└───────┘┌─┴─┐»\n",
       "«q_4: ─────┤ X ├┤ Rz(π) ├─────────┤ X ├────────────┤ X ├┤ Rz(π) ├─────────┤ X ├»\n",
       "«          └───┘└───────┘         └───┘            └───┘└───────┘         └───┘»\n",
       "«c_0: ═════════════════════════════════════════════════════════════════════════»\n",
       "«                                                                              »\n",
       "«c_1: ═════════════════════════════════════════════════════════════════════════»\n",
       "«                                                                              »\n",
       "«c_2: ═════════════════════════════════════════════════════════════════════════»\n",
       "«                                                                              »\n",
       "«c_3: ═════════════════════════════════════════════════════════════════════════»\n",
       "«                                                                              »\n",
       "«c_4: ═════════════════════════════════════════════════════════════════════════»\n",
       "«                                                                              »\n",
       "«                                                                           ░ »\n",
       "«q_0: ──────────────────────────────────────────────────────────────────────░─»\n",
       "«     ┌──────────┐                                                          ░ »\n",
       "«q_1: ┤ Rx(2π/3) ├──────────────────────────────────────────────────────────░─»\n",
       "«     └──────────┘                   ┌──────────┐                           ░ »\n",
       "«q_2: ─────■────────■─────────────■──┤ Rx(2π/3) ├───────────────────────────░─»\n",
       "«        ┌─┴─┐      │             │  └──────────┘              ┌──────────┐ ░ »\n",
       "«q_3: ───┤ X ├──────┼─────────────┼───────■─────────────────■──┤ Rx(2π/3) ├─░─»\n",
       "«        └───┘    ┌─┴─┐┌───────┐┌─┴─┐   ┌─┴─┐    ┌───────┐┌─┴─┐├──────────┤ ░ »\n",
       "«q_4: ────────────┤ X ├┤ Rz(π) ├┤ X ├───┤ X ├────┤ Rz(π) ├┤ X ├┤ Rx(2π/3) ├─░─»\n",
       "«                 └───┘└───────┘└───┘   └───┘    └───────┘└───┘└──────────┘ ░ »\n",
       "«c_0: ════════════════════════════════════════════════════════════════════════»\n",
       "«                                                                             »\n",
       "«c_1: ════════════════════════════════════════════════════════════════════════»\n",
       "«                                                                             »\n",
       "«c_2: ════════════════════════════════════════════════════════════════════════»\n",
       "«                                                                             »\n",
       "«c_3: ════════════════════════════════════════════════════════════════════════»\n",
       "«                                                                             »\n",
       "«c_4: ════════════════════════════════════════════════════════════════════════»\n",
       "«                                                                             »\n",
       "«     ┌─┐            \n",
       "«q_0: ┤M├────────────\n",
       "«     └╥┘┌─┐         \n",
       "«q_1: ─╫─┤M├─────────\n",
       "«      ║ └╥┘┌─┐      \n",
       "«q_2: ─╫──╫─┤M├──────\n",
       "«      ║  ║ └╥┘┌─┐   \n",
       "«q_3: ─╫──╫──╫─┤M├───\n",
       "«      ║  ║  ║ └╥┘┌─┐\n",
       "«q_4: ─╫──╫──╫──╫─┤M├\n",
       "«      ║  ║  ║  ║ └╥┘\n",
       "«c_0: ═╩══╬══╬══╬══╬═\n",
       "«         ║  ║  ║  ║ \n",
       "«c_1: ════╩══╬══╬══╬═\n",
       "«            ║  ║  ║ \n",
       "«c_2: ═══════╩══╬══╬═\n",
       "«               ║  ║ \n",
       "«c_3: ══════════╩══╬═\n",
       "«                  ║ \n",
       "«c_4: ═════════════╩═\n",
       "«                    "
      ]
     },
     "execution_count": 9,
     "metadata": {},
     "output_type": "execute_result"
    }
   ],
   "source": [
    "qc = get_qaoa_circuit(G,[np.pi/3], [np.pi/2])\n",
    "qc.draw()"
   ]
  },
  {
   "cell_type": "code",
   "execution_count": 10,
   "id": "7fb42267",
   "metadata": {},
   "outputs": [],
   "source": [
    "def invert_counts(counts):\n",
    "    return {k[::-1]:v for k, v in counts.items()}"
   ]
  },
  {
   "cell_type": "code",
   "execution_count": 11,
   "id": "688656f6",
   "metadata": {},
   "outputs": [
    {
     "data": {
      "text/plain": [
       "[<IBMQSimulator('ibmq_qasm_simulator') from IBMQ(hub='ibm-q', group='open', project='main')>,\n",
       " <IBMQBackend('ibmq_lima') from IBMQ(hub='ibm-q', group='open', project='main')>,\n",
       " <IBMQBackend('ibmq_belem') from IBMQ(hub='ibm-q', group='open', project='main')>,\n",
       " <IBMQBackend('ibmq_quito') from IBMQ(hub='ibm-q', group='open', project='main')>,\n",
       " <IBMQSimulator('simulator_statevector') from IBMQ(hub='ibm-q', group='open', project='main')>,\n",
       " <IBMQSimulator('simulator_mps') from IBMQ(hub='ibm-q', group='open', project='main')>,\n",
       " <IBMQSimulator('simulator_extended_stabilizer') from IBMQ(hub='ibm-q', group='open', project='main')>,\n",
       " <IBMQSimulator('simulator_stabilizer') from IBMQ(hub='ibm-q', group='open', project='main')>,\n",
       " <IBMQBackend('ibmq_jakarta') from IBMQ(hub='ibm-q', group='open', project='main')>,\n",
       " <IBMQBackend('ibmq_manila') from IBMQ(hub='ibm-q', group='open', project='main')>,\n",
       " <IBMQBackend('ibm_lagos') from IBMQ(hub='ibm-q', group='open', project='main')>,\n",
       " <IBMQBackend('ibm_nairobi') from IBMQ(hub='ibm-q', group='open', project='main')>,\n",
       " <IBMQBackend('ibm_perth') from IBMQ(hub='ibm-q', group='open', project='main')>,\n",
       " <IBMQBackend('ibm_oslo') from IBMQ(hub='ibm-q', group='open', project='main')>]"
      ]
     },
     "execution_count": 11,
     "metadata": {},
     "output_type": "execute_result"
    }
   ],
   "source": [
    "from qiskit import IBMQ\n",
    "IBMQ.load_account()\n",
    "provider = IBMQ.get_provider(hub='ibm-q', group='open', project='main')\n",
    "provider.backends()"
   ]
  },
  {
   "cell_type": "code",
   "execution_count": 12,
   "id": "408bab85",
   "metadata": {},
   "outputs": [
    {
     "name": "stderr",
     "output_type": "stream",
     "text": [
      "ibmqfactory.load_account:WARNING:2023-03-14 17:42:16,488: Credentials are already in use. The existing account in the session will be replaced.\n"
     ]
    }
   ],
   "source": [
    "IBMQ.load_account()\n",
    "provider = IBMQ.get_provider(group='open')\n",
    "backend = provider.get_backend('ibmq_quito')\n",
    "qbackend = Aer.get_backend('qasm_simulator')"
   ]
  },
  {
   "cell_type": "code",
   "execution_count": 13,
   "id": "c5c474ee",
   "metadata": {},
   "outputs": [
    {
     "name": "stdout",
     "output_type": "stream",
     "text": [
      "{'00000': 128, '10000': 129, '00001': 120, '10001': 148, '01001': 85, '11001': 122, '00101': 142, '10101': 149, '01101': 89, '11101': 161, '00011': 105, '10011': 136, '01011': 134, '11011': 158, '00111': 129, '10111': 123, '01111': 143, '11111': 192, '01000': 80, '11000': 128, '00100': 107, '10100': 128, '01100': 75, '11100': 151, '00010': 89, '10010': 116, '01010': 89, '11010': 125, '00110': 106, '10110': 148, '01110': 106, '11110': 159}\n",
      "{'00000': 128, '10000': 129, '00001': 120, '10001': 148, '01001': 85, '11001': 122, '00101': 142, '10101': 149, '01101': 89, '11101': 161, '00011': 105, '10011': 136, '01011': 134, '11011': 158, '00111': 129, '10111': 123, '01111': 143, '11111': 192, '01000': 80, '11000': 128, '00100': 107, '10100': 128, '01100': 75, '11100': 151, '00010': 89, '10010': 116, '01010': 89, '11010': 125, '00110': 106, '10110': 148, '01110': 106, '11110': 159}\n"
     ]
    }
   ],
   "source": [
    "job = execute(qc, backend)\n",
    "result = job.result()\n",
    "print(invert_counts(result.get_counts()))\n",
    "\n",
    "jobq = execute(qc, qbackend)\n",
    "result = job.result()\n",
    "print(invert_counts(result.get_counts()))"
   ]
  },
  {
   "cell_type": "code",
   "execution_count": 14,
   "id": "2aabc86a",
   "metadata": {},
   "outputs": [
    {
     "data": {
      "text/plain": [
       "-6"
      ]
     },
     "execution_count": 14,
     "metadata": {},
     "output_type": "execute_result"
    }
   ],
   "source": [
    "def maxcut_obj(x,G):\n",
    "    cut = 0\n",
    "    for i, j in G.edges():\n",
    "        if x[i] != x[j]:\n",
    "            # the edge is cut\n",
    "            cut -= 1\n",
    "    return cut\n",
    "\n",
    "maxcut_obj('00011', G)"
   ]
  },
  {
   "cell_type": "code",
   "execution_count": 15,
   "id": "f51a9270",
   "metadata": {},
   "outputs": [
    {
     "data": {
      "text/plain": [
       "-4.8855"
      ]
     },
     "execution_count": 15,
     "metadata": {},
     "output_type": "execute_result"
    }
   ],
   "source": [
    "def compute_maxcut_energy(counts, G):\n",
    "    energy = 0\n",
    "    total_counts = 0\n",
    "    for meas, meas_count in counts.items():\n",
    "        obj_for_meas = maxcut_obj(meas, G)\n",
    "        energy += obj_for_meas * meas_count\n",
    "        total_counts += meas_count\n",
    "    return energy / total_counts\n",
    "\n",
    "compute_maxcut_energy(invert_counts(result.get_counts()), G)"
   ]
  },
  {
   "cell_type": "code",
   "execution_count": 16,
   "id": "79ea418b",
   "metadata": {},
   "outputs": [],
   "source": [
    "def get_black_box_objective(G,p):\n",
    "    backend = Aer.get_backend('qasm_simulator')\n",
    "    def f(theta):\n",
    "        # let's assume first half is betas, second half is gammas\n",
    "        beta = theta[:p]\n",
    "        gamma = theta[p:]\n",
    "        qc = get_qaoa_circuit(G,beta, gamma)\n",
    "        counts = execute(qc, backend).result().get_counts()\n",
    "        # return the energy\n",
    "        return compute_maxcut_energy(invert_counts(counts), G)\n",
    "    return f"
   ]
  },
  {
   "cell_type": "code",
   "execution_count": 17,
   "id": "c8072408",
   "metadata": {},
   "outputs": [
    {
     "ename": "NameError",
     "evalue": "name 'random' is not defined",
     "output_type": "error",
     "traceback": [
      "\u001b[1;31m---------------------------------------------------------------------------\u001b[0m",
      "\u001b[1;31mNameError\u001b[0m                                 Traceback (most recent call last)",
      "\u001b[1;32m~\\AppData\\Local\\Temp\\ipykernel_30868\\1680954218.py\u001b[0m in \u001b[0;36m<module>\u001b[1;34m\u001b[0m\n\u001b[0;32m      5\u001b[0m \u001b[1;33m\u001b[0m\u001b[0m\n\u001b[0;32m      6\u001b[0m \u001b[1;32mfor\u001b[0m \u001b[0mi\u001b[0m \u001b[1;32min\u001b[0m \u001b[0mrange\u001b[0m\u001b[1;33m(\u001b[0m\u001b[1;36m2\u001b[0m\u001b[1;33m*\u001b[0m\u001b[0mp\u001b[0m\u001b[1;33m)\u001b[0m\u001b[1;33m:\u001b[0m\u001b[1;33m\u001b[0m\u001b[1;33m\u001b[0m\u001b[0m\n\u001b[1;32m----> 7\u001b[1;33m     \u001b[0mmy_array\u001b[0m\u001b[1;33m.\u001b[0m\u001b[0mappend\u001b[0m\u001b[1;33m(\u001b[0m\u001b[0mrandom\u001b[0m\u001b[1;33m.\u001b[0m\u001b[0mrandint\u001b[0m\u001b[1;33m(\u001b[0m\u001b[1;36m0\u001b[0m\u001b[1;33m,\u001b[0m \u001b[1;36m2\u001b[0m\u001b[1;33m)\u001b[0m\u001b[1;33m)\u001b[0m\u001b[1;33m\u001b[0m\u001b[1;33m\u001b[0m\u001b[0m\n\u001b[0m\u001b[0;32m      8\u001b[0m \u001b[1;31m# We are going to limit the number of iterations to 2500\u001b[0m\u001b[1;33m\u001b[0m\u001b[1;33m\u001b[0m\u001b[0m\n\u001b[0;32m      9\u001b[0m \u001b[0mres_sample\u001b[0m \u001b[1;33m=\u001b[0m \u001b[0mminimize\u001b[0m\u001b[1;33m(\u001b[0m\u001b[0mobj\u001b[0m\u001b[1;33m,\u001b[0m \u001b[0minit_point\u001b[0m\u001b[1;33m,\u001b[0m \u001b[0mmethod\u001b[0m\u001b[1;33m=\u001b[0m\u001b[1;34m'COBYLA'\u001b[0m\u001b[1;33m,\u001b[0m \u001b[0moptions\u001b[0m\u001b[1;33m=\u001b[0m\u001b[1;33m{\u001b[0m\u001b[1;34m'maxiter'\u001b[0m\u001b[1;33m:\u001b[0m\u001b[1;36m2500\u001b[0m\u001b[1;33m,\u001b[0m \u001b[1;34m'disp'\u001b[0m\u001b[1;33m:\u001b[0m \u001b[1;32mTrue\u001b[0m\u001b[1;33m}\u001b[0m\u001b[1;33m)\u001b[0m\u001b[1;33m\u001b[0m\u001b[1;33m\u001b[0m\u001b[0m\n",
      "\u001b[1;31mNameError\u001b[0m: name 'random' is not defined"
     ]
    }
   ],
   "source": [
    "p = 1\n",
    "obj = get_black_box_objective(G, p)\n",
    "\n",
    "my_array = []\n",
    "\n",
    "for i in range(2*p):\n",
    "    my_array.append(random.randint(0, 2))\n",
    "# We are going to limit the number of iterations to 2500\n",
    "res_sample = minimize(obj, init_point, method='COBYLA', options={'maxiter':2500, 'disp': True})\n",
    "res_sample"
   ]
  },
  {
   "cell_type": "code",
   "execution_count": null,
   "id": "f628c4be",
   "metadata": {},
   "outputs": [],
   "source": [
    "backend = provider.get_backend('ibmq_quito')\n",
    "optimal_theta = res_sample['x']\n",
    "qc = get_qaoa_circuit(G, optimal_theta[:p], optimal_theta[p:])\n",
    "counts = invert_counts(execute(qc, backend).result().get_counts())\n",
    "counts"
   ]
  },
  {
   "cell_type": "code",
   "execution_count": null,
   "id": "10f9c177",
   "metadata": {},
   "outputs": [],
   "source": [
    "energies = defaultdict(int)\n",
    "for k, v in counts.items():\n",
    "    energies[maxcut_obj(k,G)] += v\n",
    "\n",
    "x,y = zip(*energies.items())\n",
    "plt.bar(x,y)"
   ]
  },
  {
   "cell_type": "code",
   "execution_count": null,
   "id": "fed42261",
   "metadata": {},
   "outputs": [],
   "source": [
    "# get the best solution:\n",
    "best_cut, best_solution = min([(maxcut_obj(x,G),x) for x in counts.keys()], key=itemgetter(0))\n",
    "print(f\"Best string: {best_solution} with cut: {-best_cut}\")\n",
    "\n",
    "# color the graph nodes by part\n",
    "colors = ['r' if best_solution[node] == '0' else 'b' for node in G]\n",
    "nx.draw(G,node_color = colors, pos=pos)"
   ]
  },
  {
   "cell_type": "code",
   "execution_count": null,
   "id": "f8721adf",
   "metadata": {},
   "outputs": [],
   "source": []
  }
 ],
 "metadata": {
  "kernelspec": {
   "display_name": "Python 3 (ipykernel)",
   "language": "python",
   "name": "python3"
  },
  "language_info": {
   "codemirror_mode": {
    "name": "ipython",
    "version": 3
   },
   "file_extension": ".py",
   "mimetype": "text/x-python",
   "name": "python",
   "nbconvert_exporter": "python",
   "pygments_lexer": "ipython3",
   "version": "3.9.13"
  }
 },
 "nbformat": 4,
 "nbformat_minor": 5
}
