{
 "cells": [
  {
   "cell_type": "code",
   "execution_count": 1,
   "id": "ee18f7ba",
   "metadata": {},
   "outputs": [
    {
     "data": {
      "text/plain": [
       "{'qiskit-terra': '0.22.2', 'qiskit-aer': '0.11.1', 'qiskit-ignis': None, 'qiskit-ibmq-provider': '0.19.2', 'qiskit': '0.39.2', 'qiskit-nature': None, 'qiskit-finance': None, 'qiskit-optimization': None, 'qiskit-machine-learning': None}"
      ]
     },
     "execution_count": 1,
     "metadata": {},
     "output_type": "execute_result"
    }
   ],
   "source": [
    "import qiskit\n",
    "import random\n",
    "qiskit.__qiskit_version__"
   ]
  },
  {
   "cell_type": "code",
   "execution_count": 2,
   "id": "7d614e34",
   "metadata": {},
   "outputs": [
    {
     "name": "stdout",
     "output_type": "stream",
     "text": [
      "enter layer number: 5\n",
      "enter number of nodes for linear graph - make sure for it to be an even number: 4\n"
     ]
    }
   ],
   "source": [
    "import numpy as np\n",
    "import networkx as nx\n",
    "import matplotlib.pyplot as plt\n",
    "from collections import defaultdict\n",
    "from operator import itemgetter\n",
    "from scipy.optimize import minimize\n",
    "from qiskit import *\n",
    "from qiskit import QuantumCircuit, transpile\n",
    "from qiskit.quantum_info import Kraus, SuperOp\n",
    "from qiskit_aer import AerSimulator\n",
    "from qiskit.tools.visualization import plot_histogram\n",
    "# Import from Qiskit Aer noise module\n",
    "from qiskit_aer.noise import (NoiseModel, QuantumError, ReadoutError, pauli_error, depolarizing_error, thermal_relaxation_error)\n",
    "p=int(input(\"enter layer number: \"))\n",
    "nodes = int(input(\"enter number of nodes for linear graph - make sure for it to be an even number: \"))"
   ]
  },
  {
   "cell_type": "code",
   "execution_count": 3,
   "id": "01638154",
   "metadata": {},
   "outputs": [
    {
     "data": {
      "text/plain": [
       "'seed = 452002\\nG = nx.path_graph(nodes)\\npos = {\\n    0: (0, 0),\\n    1: (1, 0),\\n    2: (2, 0),\\n    3: (0.5, 1),\\n}\\nnx.draw(G, pos=pos, with_labels=True)'"
      ]
     },
     "execution_count": 3,
     "metadata": {},
     "output_type": "execute_result"
    },
    {
     "data": {
      "image/png": "[encoded data removed]",
      "text/plain": [
       "<Figure size 640x480 with 1 Axes>"
      ]
     },
     "metadata": {},
     "output_type": "display_data"
    }
   ],
   "source": [
    "seed = 1158\n",
    "G = nx.complete_graph(4)\n",
    "pos = {\n",
    "    0: (0, 0),\n",
    "    1: (1, 0),\n",
    "    2: (2, 0),\n",
    "    3: (0.5, 1),\n",
    "}\n",
    "nx.draw(G, pos=pos, with_labels=True)\n",
    "'''seed = 452002\n",
    "G = nx.path_graph(nodes)\n",
    "pos = {\n",
    "    0: (0, 0),\n",
    "    1: (1, 0),\n",
    "    2: (2, 0),\n",
    "    3: (0.5, 1),\n",
    "}\n",
    "nx.draw(G, pos=pos, with_labels=True)'''\n"
   ]
  },
  {
   "cell_type": "code",
   "execution_count": 4,
   "id": "b1dc66ea",
   "metadata": {},
   "outputs": [],
   "source": [
    "def append_zz_term(qc, q1, q2, gamma):\n",
    "    qc.cx(q1,q2)\n",
    "    qc.rz(2*gamma, q2)\n",
    "    qc.cx(q1,q2)\n",
    "\n",
    "def get_cost_operator_circuit(G, gamma):\n",
    "    N = G.number_of_nodes()\n",
    "    qc = QuantumCircuit(N,N)\n",
    "    for i, j in G.edges():\n",
    "        append_zz_term(qc, i, j, gamma)\n",
    "    return qc"
   ]
  },
  {
   "cell_type": "code",
   "execution_count": 5,
   "id": "af665a36",
   "metadata": {},
   "outputs": [
    {
     "data": {
      "text/html": [
       "<pre style=\"word-wrap: normal;white-space: pre;background: #fff0;line-height: 1.1;font-family: &quot;Courier New&quot;,Courier,monospace\">                                                                              »\n",
       "q_0: ──■────────────────■────■────────────────■────■──────────────────────────»\n",
       "     ┌─┴─┐┌──────────┐┌─┴─┐  │                │    │                          »\n",
       "q_1: ┤ X ├┤ Rz(2π/3) ├┤ X ├──┼────────────────┼────┼───────■──────────────────»\n",
       "     └───┘└──────────┘└───┘┌─┴─┐┌──────────┐┌─┴─┐  │     ┌─┴─┐    ┌──────────┐»\n",
       "q_2: ──────────────────────┤ X ├┤ Rz(2π/3) ├┤ X ├──┼─────┤ X ├────┤ Rz(2π/3) ├»\n",
       "                           └───┘└──────────┘└───┘┌─┴─┐┌──┴───┴───┐└──────────┘»\n",
       "q_3: ────────────────────────────────────────────┤ X ├┤ Rz(2π/3) ├────────────»\n",
       "                                                 └───┘└──────────┘            »\n",
       "c_0: ═════════════════════════════════════════════════════════════════════════»\n",
       "                                                                              »\n",
       "c_1: ═════════════════════════════════════════════════════════════════════════»\n",
       "                                                                              »\n",
       "c_2: ═════════════════════════════════════════════════════════════════════════»\n",
       "                                                                              »\n",
       "c_3: ═════════════════════════════════════════════════════════════════════════»\n",
       "                                                                              »\n",
       "«                                                           \n",
       "«q_0: ──■───────────────────────────────────────────────────\n",
       "«       │                                                   \n",
       "«q_1: ──┼────■────■────────────────■────────────────────────\n",
       "«       │  ┌─┴─┐  │                │                        \n",
       "«q_2: ──┼──┤ X ├──┼────────────────┼────■────────────────■──\n",
       "«     ┌─┴─┐└───┘┌─┴─┐┌──────────┐┌─┴─┐┌─┴─┐┌──────────┐┌─┴─┐\n",
       "«q_3: ┤ X ├─────┤ X ├┤ Rz(2π/3) ├┤ X ├┤ X ├┤ Rz(2π/3) ├┤ X ├\n",
       "«     └───┘     └───┘└──────────┘└───┘└───┘└──────────┘└───┘\n",
       "«c_0: ══════════════════════════════════════════════════════\n",
       "«                                                           \n",
       "«c_1: ══════════════════════════════════════════════════════\n",
       "«                                                           \n",
       "«c_2: ══════════════════════════════════════════════════════\n",
       "«                                                           \n",
       "«c_3: ══════════════════════════════════════════════════════\n",
       "«                                                           </pre>"
      ],
      "text/plain": [
       "                                                                              »\n",
       "q_0: ──■────────────────■────■────────────────■────■──────────────────────────»\n",
       "     ┌─┴─┐┌──────────┐┌─┴─┐  │                │    │                          »\n",
       "q_1: ┤ X ├┤ Rz(2π/3) ├┤ X ├──┼────────────────┼────┼───────■──────────────────»\n",
       "     └───┘└──────────┘└───┘┌─┴─┐┌──────────┐┌─┴─┐  │     ┌─┴─┐    ┌──────────┐»\n",
       "q_2: ──────────────────────┤ X ├┤ Rz(2π/3) ├┤ X ├──┼─────┤ X ├────┤ Rz(2π/3) ├»\n",
       "                           └───┘└──────────┘└───┘┌─┴─┐┌──┴───┴───┐└──────────┘»\n",
       "q_3: ────────────────────────────────────────────┤ X ├┤ Rz(2π/3) ├────────────»\n",
       "                                                 └───┘└──────────┘            »\n",
       "c_0: ═════════════════════════════════════════════════════════════════════════»\n",
       "                                                                              »\n",
       "c_1: ═════════════════════════════════════════════════════════════════════════»\n",
       "                                                                              »\n",
       "c_2: ═════════════════════════════════════════════════════════════════════════»\n",
       "                                                                              »\n",
       "c_3: ═════════════════════════════════════════════════════════════════════════»\n",
       "                                                                              »\n",
       "«                                                           \n",
       "«q_0: ──■───────────────────────────────────────────────────\n",
       "«       │                                                   \n",
       "«q_1: ──┼────■────■────────────────■────────────────────────\n",
       "«       │  ┌─┴─┐  │                │                        \n",
       "«q_2: ──┼──┤ X ├──┼────────────────┼────■────────────────■──\n",
       "«     ┌─┴─┐└───┘┌─┴─┐┌──────────┐┌─┴─┐┌─┴─┐┌──────────┐┌─┴─┐\n",
       "«q_3: ┤ X ├─────┤ X ├┤ Rz(2π/3) ├┤ X ├┤ X ├┤ Rz(2π/3) ├┤ X ├\n",
       "«     └───┘     └───┘└──────────┘└───┘└───┘└──────────┘└───┘\n",
       "«c_0: ══════════════════════════════════════════════════════\n",
       "«                                                           \n",
       "«c_1: ══════════════════════════════════════════════════════\n",
       "«                                                           \n",
       "«c_2: ══════════════════════════════════════════════════════\n",
       "«                                                           \n",
       "«c_3: ══════════════════════════════════════════════════════\n",
       "«                                                           "
      ]
     },
     "execution_count": 5,
     "metadata": {},
     "output_type": "execute_result"
    }
   ],
   "source": [
    "qc = get_cost_operator_circuit(G, np.pi / 3)\n",
    "qc.draw()"
   ]
  },
  {
   "cell_type": "code",
   "execution_count": 6,
   "id": "05a9dc7e",
   "metadata": {},
   "outputs": [],
   "source": [
    "def append_x_term(qc, q1, beta):\n",
    "    qc.rx(2*beta, q1)\n",
    "\n",
    "def get_mixer_operator_circuit(G, beta):\n",
    "    N = G.number_of_nodes()\n",
    "    qc = QuantumCircuit(N,N)\n",
    "    for n in G.nodes():\n",
    "        append_x_term(qc, n, beta)\n",
    "    return qc"
   ]
  },
  {
   "cell_type": "code",
   "execution_count": 7,
   "id": "e7eed6dd",
   "metadata": {},
   "outputs": [
    {
     "data": {
      "text/html": [
       "<pre style=\"word-wrap: normal;white-space: pre;background: #fff0;line-height: 1.1;font-family: &quot;Courier New&quot;,Courier,monospace\">     ┌──────────┐\n",
       "q_0: ┤ Rx(2π/3) ├\n",
       "     ├──────────┤\n",
       "q_1: ┤ Rx(2π/3) ├\n",
       "     ├──────────┤\n",
       "q_2: ┤ Rx(2π/3) ├\n",
       "     ├──────────┤\n",
       "q_3: ┤ Rx(2π/3) ├\n",
       "     └──────────┘\n",
       "c_0: ════════════\n",
       "                 \n",
       "c_1: ════════════\n",
       "                 \n",
       "c_2: ════════════\n",
       "                 \n",
       "c_3: ════════════\n",
       "                 </pre>"
      ],
      "text/plain": [
       "     ┌──────────┐\n",
       "q_0: ┤ Rx(2π/3) ├\n",
       "     ├──────────┤\n",
       "q_1: ┤ Rx(2π/3) ├\n",
       "     ├──────────┤\n",
       "q_2: ┤ Rx(2π/3) ├\n",
       "     ├──────────┤\n",
       "q_3: ┤ Rx(2π/3) ├\n",
       "     └──────────┘\n",
       "c_0: ════════════\n",
       "                 \n",
       "c_1: ════════════\n",
       "                 \n",
       "c_2: ════════════\n",
       "                 \n",
       "c_3: ════════════\n",
       "                 "
      ]
     },
     "execution_count": 7,
     "metadata": {},
     "output_type": "execute_result"
    }
   ],
   "source": [
    "qc = get_mixer_operator_circuit(G, np.pi/3)\n",
    "qc.draw()"
   ]
  },
  {
   "cell_type": "code",
   "execution_count": 8,
   "id": "604c928d",
   "metadata": {},
   "outputs": [],
   "source": [
    "def get_qaoa_circuit(G, beta, gamma):\n",
    "    assert(len(beta) == len(gamma))\n",
    "    p = len(beta) # infering number of QAOA steps from the parameters passed\n",
    "    N = G.number_of_nodes()\n",
    "    qc = QuantumCircuit(N,N)\n",
    "    # first, apply a layer of Hadamards\n",
    "    qc.h(range(N))\n",
    "    # second, apply p alternating operators\n",
    "    for i in range(p):\n",
    "        qc += get_cost_operator_circuit(G,gamma[i])\n",
    "        qc += get_mixer_operator_circuit(G,beta[i])\n",
    "    # finally, do not forget to measure the result!\n",
    "    qc.barrier(range(N))\n",
    "    qc.measure(range(N), range(N))\n",
    "    return qc"
   ]
  },
  {
   "cell_type": "code",
   "execution_count": 9,
   "id": "30a5bfab",
   "metadata": {},
   "outputs": [
    {
     "name": "stderr",
     "output_type": "stream",
     "text": [
      "C:\\Users\\prath\\AppData\\Local\\Temp\\ipykernel_26104\\1074017623.py:10: DeprecationWarning: The QuantumCircuit.__iadd__() method is being deprecated. Use the compose() (potentially with the inplace=True argument) and tensor() methods which are more flexible w.r.t circuit register compatibility.\n",
      "  qc += get_cost_operator_circuit(G,gamma[i])\n",
      "C:\\Users\\prath\\AppData\\Local\\Temp\\ipykernel_26104\\1074017623.py:11: DeprecationWarning: The QuantumCircuit.__iadd__() method is being deprecated. Use the compose() (potentially with the inplace=True argument) and tensor() methods which are more flexible w.r.t circuit register compatibility.\n",
      "  qc += get_mixer_operator_circuit(G,beta[i])\n"
     ]
    },
    {
     "data": {
      "text/html": [
       "<pre style=\"word-wrap: normal;white-space: pre;background: #fff0;line-height: 1.1;font-family: &quot;Courier New&quot;,Courier,monospace\">     ┌───┐                                                                  »\n",
       "q_0: ┤ H ├──■─────────────■────■─────────────■────■──────────────────────■──»\n",
       "     ├───┤┌─┴─┐┌───────┐┌─┴─┐  │             │    │                      │  »\n",
       "q_1: ┤ H ├┤ X ├┤ Rz(π) ├┤ X ├──┼─────────────┼────┼──────■───────────────┼──»\n",
       "     ├───┤└───┘└───────┘└───┘┌─┴─┐┌───────┐┌─┴─┐  │    ┌─┴─┐  ┌───────┐  │  »\n",
       "q_2: ┤ H ├───────────────────┤ X ├┤ Rz(π) ├┤ X ├──┼────┤ X ├──┤ Rz(π) ├──┼──»\n",
       "     ├───┤                   └───┘└───────┘└───┘┌─┴─┐┌─┴───┴─┐└───────┘┌─┴─┐»\n",
       "q_3: ┤ H ├──────────────────────────────────────┤ X ├┤ Rz(π) ├─────────┤ X ├»\n",
       "     └───┘                                      └───┘└───────┘         └───┘»\n",
       "c_0: ═══════════════════════════════════════════════════════════════════════»\n",
       "                                                                            »\n",
       "c_1: ═══════════════════════════════════════════════════════════════════════»\n",
       "                                                                            »\n",
       "c_2: ═══════════════════════════════════════════════════════════════════════»\n",
       "                                                                            »\n",
       "c_3: ═══════════════════════════════════════════════════════════════════════»\n",
       "                                                                            »\n",
       "«     ┌──────────┐                                                          ░ »\n",
       "«q_0: ┤ Rx(2π/3) ├──────────────────────────────────────────────────────────░─»\n",
       "«     └──────────┘                   ┌──────────┐                           ░ »\n",
       "«q_1: ─────■────────■─────────────■──┤ Rx(2π/3) ├───────────────────────────░─»\n",
       "«        ┌─┴─┐      │             │  └──────────┘              ┌──────────┐ ░ »\n",
       "«q_2: ───┤ X ├──────┼─────────────┼───────■─────────────────■──┤ Rx(2π/3) ├─░─»\n",
       "«        └───┘    ┌─┴─┐┌───────┐┌─┴─┐   ┌─┴─┐    ┌───────┐┌─┴─┐├──────────┤ ░ »\n",
       "«q_3: ────────────┤ X ├┤ Rz(π) ├┤ X ├───┤ X ├────┤ Rz(π) ├┤ X ├┤ Rx(2π/3) ├─░─»\n",
       "«                 └───┘└───────┘└───┘   └───┘    └───────┘└───┘└──────────┘ ░ »\n",
       "«c_0: ════════════════════════════════════════════════════════════════════════»\n",
       "«                                                                             »\n",
       "«c_1: ════════════════════════════════════════════════════════════════════════»\n",
       "«                                                                             »\n",
       "«c_2: ════════════════════════════════════════════════════════════════════════»\n",
       "«                                                                             »\n",
       "«c_3: ════════════════════════════════════════════════════════════════════════»\n",
       "«                                                                             »\n",
       "«     ┌─┐         \n",
       "«q_0: ┤M├─────────\n",
       "«     └╥┘┌─┐      \n",
       "«q_1: ─╫─┤M├──────\n",
       "«      ║ └╥┘┌─┐   \n",
       "«q_2: ─╫──╫─┤M├───\n",
       "«      ║  ║ └╥┘┌─┐\n",
       "«q_3: ─╫──╫──╫─┤M├\n",
       "«      ║  ║  ║ └╥┘\n",
       "«c_0: ═╩══╬══╬══╬═\n",
       "«         ║  ║  ║ \n",
       "«c_1: ════╩══╬══╬═\n",
       "«            ║  ║ \n",
       "«c_2: ═══════╩══╬═\n",
       "«               ║ \n",
       "«c_3: ══════════╩═\n",
       "«                 </pre>"
      ],
      "text/plain": [
       "     ┌───┐                                                                  »\n",
       "q_0: ┤ H ├──■─────────────■────■─────────────■────■──────────────────────■──»\n",
       "     ├───┤┌─┴─┐┌───────┐┌─┴─┐  │             │    │                      │  »\n",
       "q_1: ┤ H ├┤ X ├┤ Rz(π) ├┤ X ├──┼─────────────┼────┼──────■───────────────┼──»\n",
       "     ├───┤└───┘└───────┘└───┘┌─┴─┐┌───────┐┌─┴─┐  │    ┌─┴─┐  ┌───────┐  │  »\n",
       "q_2: ┤ H ├───────────────────┤ X ├┤ Rz(π) ├┤ X ├──┼────┤ X ├──┤ Rz(π) ├──┼──»\n",
       "     ├───┤                   └───┘└───────┘└───┘┌─┴─┐┌─┴───┴─┐└───────┘┌─┴─┐»\n",
       "q_3: ┤ H ├──────────────────────────────────────┤ X ├┤ Rz(π) ├─────────┤ X ├»\n",
       "     └───┘                                      └───┘└───────┘         └───┘»\n",
       "c_0: ═══════════════════════════════════════════════════════════════════════»\n",
       "                                                                            »\n",
       "c_1: ═══════════════════════════════════════════════════════════════════════»\n",
       "                                                                            »\n",
       "c_2: ═══════════════════════════════════════════════════════════════════════»\n",
       "                                                                            »\n",
       "c_3: ═══════════════════════════════════════════════════════════════════════»\n",
       "                                                                            »\n",
       "«     ┌──────────┐                                                          ░ »\n",
       "«q_0: ┤ Rx(2π/3) ├──────────────────────────────────────────────────────────░─»\n",
       "«     └──────────┘                   ┌──────────┐                           ░ »\n",
       "«q_1: ─────■────────■─────────────■──┤ Rx(2π/3) ├───────────────────────────░─»\n",
       "«        ┌─┴─┐      │             │  └──────────┘              ┌──────────┐ ░ »\n",
       "«q_2: ───┤ X ├──────┼─────────────┼───────■─────────────────■──┤ Rx(2π/3) ├─░─»\n",
       "«        └───┘    ┌─┴─┐┌───────┐┌─┴─┐   ┌─┴─┐    ┌───────┐┌─┴─┐├──────────┤ ░ »\n",
       "«q_3: ────────────┤ X ├┤ Rz(π) ├┤ X ├───┤ X ├────┤ Rz(π) ├┤ X ├┤ Rx(2π/3) ├─░─»\n",
       "«                 └───┘└───────┘└───┘   └───┘    └───────┘└───┘└──────────┘ ░ »\n",
       "«c_0: ════════════════════════════════════════════════════════════════════════»\n",
       "«                                                                             »\n",
       "«c_1: ════════════════════════════════════════════════════════════════════════»\n",
       "«                                                                             »\n",
       "«c_2: ════════════════════════════════════════════════════════════════════════»\n",
       "«                                                                             »\n",
       "«c_3: ════════════════════════════════════════════════════════════════════════»\n",
       "«                                                                             »\n",
       "«     ┌─┐         \n",
       "«q_0: ┤M├─────────\n",
       "«     └╥┘┌─┐      \n",
       "«q_1: ─╫─┤M├──────\n",
       "«      ║ └╥┘┌─┐   \n",
       "«q_2: ─╫──╫─┤M├───\n",
       "«      ║  ║ └╥┘┌─┐\n",
       "«q_3: ─╫──╫──╫─┤M├\n",
       "«      ║  ║  ║ └╥┘\n",
       "«c_0: ═╩══╬══╬══╬═\n",
       "«         ║  ║  ║ \n",
       "«c_1: ════╩══╬══╬═\n",
       "«            ║  ║ \n",
       "«c_2: ═══════╩══╬═\n",
       "«               ║ \n",
       "«c_3: ══════════╩═\n",
       "«                 "
      ]
     },
     "execution_count": 9,
     "metadata": {},
     "output_type": "execute_result"
    }
   ],
   "source": [
    "qc = get_qaoa_circuit(G,[np.pi/3], [np.pi/2])\n",
    "qc.draw()"
   ]
  },
  {
   "cell_type": "code",
   "execution_count": 10,
   "id": "d3c1963a",
   "metadata": {},
   "outputs": [],
   "source": [
    "def invert_counts(counts):\n",
    "    return {k[::-1]:v for k, v in counts.items()}"
   ]
  },
  {
   "cell_type": "code",
   "execution_count": 11,
   "id": "656173da",
   "metadata": {},
   "outputs": [
    {
     "name": "stdout",
     "output_type": "stream",
     "text": [
      "{'0001': 57, '1100': 70, '0110': 68, '1011': 64, '0010': 71, '1010': 47, '0101': 71, '1000': 65, '0100': 65, '1101': 81, '1111': 63, '0011': 58, '1110': 50, '1001': 56, '0000': 71, '0111': 67}\n"
     ]
    }
   ],
   "source": [
    "backend = Aer.get_backend('qasm_simulator')\n",
    "job = execute(qc, backend)\n",
    "result = job.result()\n",
    "print(invert_counts(result.get_counts()))"
   ]
  },
  {
   "cell_type": "code",
   "execution_count": 12,
   "id": "a8bbaf41",
   "metadata": {},
   "outputs": [
    {
     "data": {
      "text/plain": [
       "-3"
      ]
     },
     "execution_count": 12,
     "metadata": {},
     "output_type": "execute_result"
    }
   ],
   "source": [
    "def maxcut_obj(x,G):\n",
    "    cut = 0\n",
    "    for i, j in G.edges():\n",
    "        if x[i] != x[j]:\n",
    "            # the edge is cut\n",
    "            cut -= 1\n",
    "    return cut\n",
    "\n",
    "maxcut_obj('0001100000', G)"
   ]
  },
  {
   "cell_type": "code",
   "execution_count": 13,
   "id": "beea8a2e",
   "metadata": {},
   "outputs": [
    {
     "data": {
      "text/plain": [
       "-2.96875"
      ]
     },
     "execution_count": 13,
     "metadata": {},
     "output_type": "execute_result"
    }
   ],
   "source": [
    "def compute_maxcut_energy(counts, G):\n",
    "    energy = 0\n",
    "    total_counts = 0\n",
    "    for meas, meas_count in counts.items():\n",
    "        obj_for_meas = maxcut_obj(meas, G)\n",
    "        energy += obj_for_meas * meas_count\n",
    "        total_counts += meas_count\n",
    "    return energy / total_counts\n",
    "\n",
    "compute_maxcut_energy(invert_counts(result.get_counts()), G)"
   ]
  },
  {
   "cell_type": "code",
   "execution_count": 14,
   "id": "ba7c444c",
   "metadata": {},
   "outputs": [],
   "source": [
    "def get_black_box_objective(G,p):\n",
    "    backend = Aer.get_backend('qasm_simulator')\n",
    "    def f(theta):\n",
    "        # let's assume first half is betas, second half is gammas\n",
    "        beta = theta[:p]\n",
    "        gamma = theta[p:]\n",
    "        qc = get_qaoa_circuit(G,beta, gamma)\n",
    "        counts = execute(qc, backend, seed_simulator=10).result().get_counts()\n",
    "        # return the energy\n",
    "        return compute_maxcut_energy(invert_counts(counts), G)\n",
    "    return f"
   ]
  },
  {
   "cell_type": "code",
   "execution_count": 15,
   "id": "3ec00b7f",
   "metadata": {
    "scrolled": true
   },
   "outputs": [
    {
     "name": "stdout",
     "output_type": "stream",
     "text": [
      "[1.5298441880123768, 1.7721633208004364, 1.0552215156102849, 2.833558116805888, 2.881126970945502, 3.051020589198799, 4.355863193725365, 6.185363126169098, 1.2781613116010158, 2.0872865046707414]\n"
     ]
    },
    {
     "name": "stderr",
     "output_type": "stream",
     "text": [
      "C:\\Users\\prath\\AppData\\Local\\Temp\\ipykernel_26104\\1074017623.py:10: DeprecationWarning: The QuantumCircuit.__iadd__() method is being deprecated. Use the compose() (potentially with the inplace=True argument) and tensor() methods which are more flexible w.r.t circuit register compatibility.\n",
      "  qc += get_cost_operator_circuit(G,gamma[i])\n",
      "C:\\Users\\prath\\AppData\\Local\\Temp\\ipykernel_26104\\1074017623.py:11: DeprecationWarning: The QuantumCircuit.__iadd__() method is being deprecated. Use the compose() (potentially with the inplace=True argument) and tensor() methods which are more flexible w.r.t circuit register compatibility.\n",
      "  qc += get_mixer_operator_circuit(G,beta[i])\n"
     ]
    },
    {
     "data": {
      "text/plain": [
       "     fun: -3.9814453125\n",
       "   maxcv: 0.0\n",
       " message: 'Optimization terminated successfully.'\n",
       "    nfev: 95\n",
       "  status: 1\n",
       " success: True\n",
       "       x: array([1.55030012, 1.82893517, 1.03752834, 2.82856544, 2.86868742,\n",
       "       2.98840517, 4.30360852, 7.18109727, 1.3665305 , 2.07631323])"
      ]
     },
     "execution_count": 15,
     "metadata": {},
     "output_type": "execute_result"
    }
   ],
   "source": [
    "obj = get_black_box_objective(G, p)\n",
    "#random.seed(69)\n",
    "\n",
    "my_array = []\n",
    "\n",
    "for i in range(p):\n",
    "    my_array.append(random.uniform(0, np.pi))\n",
    "\n",
    "for i in range(p):\n",
    "    my_array.append(random.uniform(0, 2*np.pi))\n",
    "\n",
    "print(my_array)\n",
    "    \n",
    "init_point = my_array\n",
    "# We are going to limit the number of iterations to 2500\n",
    "res_sample = minimize(obj, init_point, method='COBYLA', options={'maxiter':100, 'disp': True})\n",
    "res_sample"
   ]
  },
  {
   "cell_type": "code",
   "execution_count": 16,
   "id": "cdb37251",
   "metadata": {},
   "outputs": [
    {
     "name": "stderr",
     "output_type": "stream",
     "text": [
      "C:\\Users\\prath\\AppData\\Local\\Temp\\ipykernel_26104\\1074017623.py:10: DeprecationWarning: The QuantumCircuit.__iadd__() method is being deprecated. Use the compose() (potentially with the inplace=True argument) and tensor() methods which are more flexible w.r.t circuit register compatibility.\n",
      "  qc += get_cost_operator_circuit(G,gamma[i])\n",
      "C:\\Users\\prath\\AppData\\Local\\Temp\\ipykernel_26104\\1074017623.py:11: DeprecationWarning: The QuantumCircuit.__iadd__() method is being deprecated. Use the compose() (potentially with the inplace=True argument) and tensor() methods which are more flexible w.r.t circuit register compatibility.\n",
      "  qc += get_mixer_operator_circuit(G,beta[i])\n"
     ]
    },
    {
     "data": {
      "text/plain": [
       "{'0101': 179,\n",
       " '1001': 164,\n",
       " '1100': 152,\n",
       " '0011': 153,\n",
       " '0110': 194,\n",
       " '0111': 1,\n",
       " '1010': 161,\n",
       " '0010': 4,\n",
       " '1011': 2,\n",
       " '0000': 1,\n",
       " '1110': 1,\n",
       " '0001': 3,\n",
       " '1101': 3,\n",
       " '1000': 2,\n",
       " '0100': 4}"
      ]
     },
     "execution_count": 16,
     "metadata": {},
     "output_type": "execute_result"
    }
   ],
   "source": [
    "optimal_theta = res_sample['x']\n",
    "qc = get_qaoa_circuit(G, optimal_theta[:p], optimal_theta[p:])\n",
    "counts = invert_counts(execute(qc, backend).result().get_counts())\n",
    "counts\n"
   ]
  },
  {
   "cell_type": "code",
   "execution_count": 17,
   "id": "c43fe274",
   "metadata": {},
   "outputs": [
    {
     "data": {
      "text/plain": [
       "{'0000': 75,\n",
       " '1100': 75,\n",
       " '0011': 63,\n",
       " '0110': 66,\n",
       " '1010': 58,\n",
       " '0111': 57,\n",
       " '1110': 60,\n",
       " '0101': 69,\n",
       " '0100': 58,\n",
       " '0001': 65,\n",
       " '1101': 71,\n",
       " '1001': 66,\n",
       " '1111': 56,\n",
       " '1000': 73,\n",
       " '0010': 55,\n",
       " '1011': 57}"
      ]
     },
     "execution_count": 17,
     "metadata": {},
     "output_type": "execute_result"
    }
   ],
   "source": [
    "p_reset = 0.03\n",
    "p_meas = 0.1\n",
    "p_gate1 = 0.05\n",
    "\n",
    "# QuantumError objects\n",
    "error_reset = pauli_error([('X', p_reset), ('I', 1 - p_reset)])\n",
    "error_meas = pauli_error([('X',p_meas), ('I', 1 - p_meas)])\n",
    "error_gate1 = pauli_error([('X',p_gate1), ('I', 1 - p_gate1)])\n",
    "error_gate2 = error_gate1.tensor(error_gate1)\n",
    "\n",
    "# Add errors to noise model\n",
    "noise_bit_flip = NoiseModel()\n",
    "noise_bit_flip.add_all_qubit_quantum_error(error_reset, \"reset\")\n",
    "noise_bit_flip.add_all_qubit_quantum_error(error_meas, \"measure\")\n",
    "noise_bit_flip.add_all_qubit_quantum_error(error_gate1, [\"u1\", \"u2\", \"u3\"])\n",
    "noise_bit_flip.add_all_qubit_quantum_error(error_gate2, [\"cx\"])\n",
    "        \n",
    "sim_noise=AerSimulator(noise_model=noise_bit_flip)\n",
    "qc_bitnoise=transpile(qc, sim_noise)\n",
    "result_bit_flip = sim_noise.run(qc_bitnoise).result()\n",
    "counts_bit_flip = result_bit_flip.get_counts(0)\n",
    "counts = counts_bit_flip\n",
    "counts"
   ]
  },
  {
   "cell_type": "code",
   "execution_count": 18,
   "id": "06bc8bd2",
   "metadata": {},
   "outputs": [],
   "source": [
    "import numpy as np\n",
    "\n",
    "def state_num2str(basis_state_as_num, nqubits):\n",
    "    return '{0:b}'.format(basis_state_as_num).zfill(nqubits)\n",
    "\n",
    "def state_str2num(basis_state_as_str):\n",
    "    return int(basis_state_as_str, 2)\n",
    "\n",
    "def state_reverse(basis_state_as_num, nqubits):\n",
    "    basis_state_as_str = state_num2str(basis_state_as_num, nqubits)\n",
    "    new_str = basis_state_as_str[::-1]\n",
    "    return state_str2num(new_str)\n",
    "\n",
    "def get_adjusted_state(state):\n",
    "    nqubits = np.log2(state.shape[0])\n",
    "    if nqubits % 1:\n",
    "        raise ValueError(\"Input vector is not a valid statevector for qubits.\")\n",
    "    nqubits = int(nqubits)\n",
    "\n",
    "    adjusted_state = np.zeros(2**nqubits, dtype=complex)\n",
    "    for basis_state in range(2**nqubits):\n",
    "         adjusted_state[state_reverse(basis_state, nqubits)] = state[basis_state]\n",
    "    return adjusted_state"
   ]
  },
  {
   "cell_type": "code",
   "execution_count": 19,
   "id": "85c49c91",
   "metadata": {},
   "outputs": [],
   "source": [
    "def get_qaoa_circuit_sv(G, beta, gamma):\n",
    "    assert(len(beta) == len(gamma))\n",
    "    p = len(beta) # infering number of QAOA steps from the parameters passed\n",
    "    N = G.number_of_nodes()\n",
    "    qc = QuantumCircuit(N,N)\n",
    "    # first, apply a layer of Hadamards\n",
    "    qc.h(range(N))\n",
    "    # second, apply p alternating operators\n",
    "    for i in range(p):\n",
    "        qc += get_cost_operator_circuit(G,gamma[i])\n",
    "        qc += get_mixer_operator_circuit(G,beta[i])\n",
    "    # no measurement in the end!\n",
    "    return qc"
   ]
  },
  {
   "cell_type": "code",
   "execution_count": 20,
   "id": "753e0549",
   "metadata": {},
   "outputs": [],
   "source": [
    "def state_to_ampl_counts(vec, eps=1e-15):\n",
    "    \"\"\"Converts a statevector to a dictionary\n",
    "    of bitstrings and corresponding amplitudes\n",
    "    \"\"\"\n",
    "    qubit_dims = np.log2(vec.shape[0])\n",
    "    if qubit_dims % 1:\n",
    "        raise ValueError(\"Input vector is not a valid statevector for qubits.\")\n",
    "    qubit_dims = int(qubit_dims)\n",
    "    counts = {}\n",
    "    str_format = '0{}b'.format(qubit_dims)\n",
    "    for kk in range(vec.shape[0]):\n",
    "        val = vec[kk]\n",
    "        if val.real**2+val.imag**2 > eps:\n",
    "            counts[format(kk, str_format)] = val\n",
    "    return counts"
   ]
  },
  {
   "cell_type": "code",
   "execution_count": 21,
   "id": "d1f633f4",
   "metadata": {
    "scrolled": true
   },
   "outputs": [
    {
     "name": "stderr",
     "output_type": "stream",
     "text": [
      "C:\\Users\\prath\\AppData\\Local\\Temp\\ipykernel_26104\\1706904653.py:10: DeprecationWarning: The QuantumCircuit.__iadd__() method is being deprecated. Use the compose() (potentially with the inplace=True argument) and tensor() methods which are more flexible w.r.t circuit register compatibility.\n",
      "  qc += get_cost_operator_circuit(G,gamma[i])\n",
      "C:\\Users\\prath\\AppData\\Local\\Temp\\ipykernel_26104\\1706904653.py:11: DeprecationWarning: The QuantumCircuit.__iadd__() method is being deprecated. Use the compose() (potentially with the inplace=True argument) and tensor() methods which are more flexible w.r.t circuit register compatibility.\n",
      "  qc += get_mixer_operator_circuit(G,beta[i])\n",
      "C:\\Users\\prath\\AppData\\Local\\Temp\\ipykernel_26104\\223565038.py:15: DeprecationWarning: The return type of saved statevectors has been changed from a `numpy.ndarray` to a `qiskit.quantum_info.Statevector` as of qiskit-aer 0.10. Accessing numpy array attributes is deprecated and will result in an error in a future release. To continue using saved result objects as arrays you can explicitly cast them using  `np.asarray(object)`.\n",
      "  nqubits = np.log2(state.shape[0])\n"
     ]
    },
    {
     "data": {
      "text/plain": [
       "{'0000': (-0.005074764425409359-0.01837462879569328j),\n",
       " '0001': (-0.034607815506192706+0.03449359291826833j),\n",
       " '0010': (-0.034607815506192574+0.03449359291826833j),\n",
       " '0011': (-0.23438435903816768+0.3292812886228436j),\n",
       " '0100': (-0.03460781550619275+0.03449359291826844j),\n",
       " '0101': (-0.23438435903816768+0.3292812886228434j),\n",
       " '0110': (-0.23438435903816754+0.32928128862284356j),\n",
       " '0111': (-0.03460781550619273+0.034493592918268326j),\n",
       " '1000': (-0.03460781550619262+0.03449359291826834j),\n",
       " '1001': (-0.23438435903816765+0.32928128862284356j),\n",
       " '1010': (-0.23438435903816765+0.3292812886228437j),\n",
       " '1011': (-0.034607815506192706+0.03449359291826836j),\n",
       " '1100': (-0.2343843590381677+0.3292812886228436j),\n",
       " '1101': (-0.03460781550619254+0.03449359291826833j),\n",
       " '1110': (-0.034607815506192734+0.034493592918268354j),\n",
       " '1111': (-0.005074764425409259-0.018374628795693314j)}"
      ]
     },
     "execution_count": 21,
     "metadata": {},
     "output_type": "execute_result"
    }
   ],
   "source": [
    "backend = Aer.get_backend('statevector_simulator')\n",
    "qc = get_qaoa_circuit_sv(G, optimal_theta[:p], optimal_theta[p:])\n",
    "sv = get_adjusted_state(execute(qc, backend).result().get_statevector())\n",
    "matrix=state_to_ampl_counts(sv)\n",
    "state_to_ampl_counts(sv)\n",
    "#sv\n",
    "\n"
   ]
  },
  {
   "cell_type": "code",
   "execution_count": 22,
   "id": "cff7ed24",
   "metadata": {},
   "outputs": [
    {
     "ename": "QiskitError",
     "evalue": "'No statevector for experiment \"0\"'",
     "output_type": "error",
     "traceback": [
      "\u001b[1;31m---------------------------------------------------------------------------\u001b[0m",
      "\u001b[1;31mKeyError\u001b[0m                                  Traceback (most recent call last)",
      "\u001b[1;32m~\\anaconda3\\lib\\site-packages\\qiskit\\result\\result.py\u001b[0m in \u001b[0;36mget_statevector\u001b[1;34m(self, experiment, decimals)\u001b[0m\n\u001b[0;32m    313\u001b[0m             return postprocess.format_statevector(\n\u001b[1;32m--> 314\u001b[1;33m                 \u001b[0mself\u001b[0m\u001b[1;33m.\u001b[0m\u001b[0mdata\u001b[0m\u001b[1;33m(\u001b[0m\u001b[0mexperiment\u001b[0m\u001b[1;33m)\u001b[0m\u001b[1;33m[\u001b[0m\u001b[1;34m\"statevector\"\u001b[0m\u001b[1;33m]\u001b[0m\u001b[1;33m,\u001b[0m \u001b[0mdecimals\u001b[0m\u001b[1;33m=\u001b[0m\u001b[0mdecimals\u001b[0m\u001b[1;33m\u001b[0m\u001b[1;33m\u001b[0m\u001b[0m\n\u001b[0m\u001b[0;32m    315\u001b[0m             )\n",
      "\u001b[1;31mKeyError\u001b[0m: 'statevector'",
      "\nThe above exception was the direct cause of the following exception:\n",
      "\u001b[1;31mQiskitError\u001b[0m                               Traceback (most recent call last)",
      "\u001b[1;32m~\\AppData\\Local\\Temp\\ipykernel_26104\\1381336614.py\u001b[0m in \u001b[0;36m<module>\u001b[1;34m\u001b[0m\n\u001b[0;32m     19\u001b[0m \u001b[0mqc_bitnoise\u001b[0m \u001b[1;33m=\u001b[0m \u001b[0mtranspile\u001b[0m\u001b[1;33m(\u001b[0m\u001b[0mqc\u001b[0m\u001b[1;33m,\u001b[0m \u001b[0msim_noise\u001b[0m\u001b[1;33m)\u001b[0m\u001b[1;33m\u001b[0m\u001b[1;33m\u001b[0m\u001b[0m\n\u001b[0;32m     20\u001b[0m \u001b[0mresult_bit_flip\u001b[0m \u001b[1;33m=\u001b[0m \u001b[0msim_noise\u001b[0m\u001b[1;33m.\u001b[0m\u001b[0mrun\u001b[0m\u001b[1;33m(\u001b[0m\u001b[0mqc_bitnoise\u001b[0m\u001b[1;33m)\u001b[0m\u001b[1;33m.\u001b[0m\u001b[0mresult\u001b[0m\u001b[1;33m(\u001b[0m\u001b[1;33m)\u001b[0m\u001b[1;33m\u001b[0m\u001b[1;33m\u001b[0m\u001b[0m\n\u001b[1;32m---> 21\u001b[1;33m \u001b[0msv1\u001b[0m \u001b[1;33m=\u001b[0m \u001b[0mget_adjusted_state\u001b[0m\u001b[1;33m(\u001b[0m\u001b[0mresult_bit_flip\u001b[0m\u001b[1;33m.\u001b[0m\u001b[0mget_statevector\u001b[0m\u001b[1;33m(\u001b[0m\u001b[1;36m0\u001b[0m\u001b[1;33m)\u001b[0m\u001b[1;33m)\u001b[0m\u001b[1;33m\u001b[0m\u001b[1;33m\u001b[0m\u001b[0m\n\u001b[0m\u001b[0;32m     22\u001b[0m \u001b[0mmatrix\u001b[0m\u001b[1;33m=\u001b[0m\u001b[0mstate_to_ampl_counts\u001b[0m\u001b[1;33m(\u001b[0m\u001b[0msv1\u001b[0m\u001b[1;33m)\u001b[0m\u001b[1;33m\u001b[0m\u001b[1;33m\u001b[0m\u001b[0m\n\u001b[0;32m     23\u001b[0m \u001b[0mstate_to_ampl_counts\u001b[0m\u001b[1;33m(\u001b[0m\u001b[0msv1\u001b[0m\u001b[1;33m)\u001b[0m\u001b[1;33m\u001b[0m\u001b[1;33m\u001b[0m\u001b[0m\n",
      "\u001b[1;32m~\\anaconda3\\lib\\site-packages\\qiskit\\result\\result.py\u001b[0m in \u001b[0;36mget_statevector\u001b[1;34m(self, experiment, decimals)\u001b[0m\n\u001b[0;32m    315\u001b[0m             )\n\u001b[0;32m    316\u001b[0m         \u001b[1;32mexcept\u001b[0m \u001b[0mKeyError\u001b[0m \u001b[1;32mas\u001b[0m \u001b[0mex\u001b[0m\u001b[1;33m:\u001b[0m\u001b[1;33m\u001b[0m\u001b[1;33m\u001b[0m\u001b[0m\n\u001b[1;32m--> 317\u001b[1;33m             \u001b[1;32mraise\u001b[0m \u001b[0mQiskitError\u001b[0m\u001b[1;33m(\u001b[0m\u001b[1;34mf'No statevector for experiment \"{repr(experiment)}\"'\u001b[0m\u001b[1;33m)\u001b[0m \u001b[1;32mfrom\u001b[0m \u001b[0mex\u001b[0m\u001b[1;33m\u001b[0m\u001b[1;33m\u001b[0m\u001b[0m\n\u001b[0m\u001b[0;32m    318\u001b[0m \u001b[1;33m\u001b[0m\u001b[0m\n\u001b[0;32m    319\u001b[0m     \u001b[1;32mdef\u001b[0m \u001b[0mget_unitary\u001b[0m\u001b[1;33m(\u001b[0m\u001b[0mself\u001b[0m\u001b[1;33m,\u001b[0m \u001b[0mexperiment\u001b[0m\u001b[1;33m=\u001b[0m\u001b[1;32mNone\u001b[0m\u001b[1;33m,\u001b[0m \u001b[0mdecimals\u001b[0m\u001b[1;33m=\u001b[0m\u001b[1;32mNone\u001b[0m\u001b[1;33m)\u001b[0m\u001b[1;33m:\u001b[0m\u001b[1;33m\u001b[0m\u001b[1;33m\u001b[0m\u001b[0m\n",
      "\u001b[1;31mQiskitError\u001b[0m: 'No statevector for experiment \"0\"'"
     ]
    }
   ],
   "source": [
    "p_reset = 0.03\n",
    "p_meas = 0.1\n",
    "p_gate1 = 0.05\n",
    "\n",
    "# QuantumError objects\n",
    "error_reset = pauli_error([('X', p_reset), ('I', 1 - p_reset)])\n",
    "error_meas = pauli_error([('X',p_meas), ('I', 1 - p_meas)])\n",
    "error_gate1 = pauli_error([('X',p_gate1), ('I', 1 - p_gate1)])\n",
    "error_gate2 = error_gate1.tensor(error_gate1)\n",
    "\n",
    "# Add errors to noise model\n",
    "noise_bit_flip = NoiseModel()\n",
    "noise_bit_flip.add_all_qubit_quantum_error(error_reset, \"reset\")\n",
    "noise_bit_flip.add_all_qubit_quantum_error(error_meas, \"measure\")\n",
    "noise_bit_flip.add_all_qubit_quantum_error(error_gate1, [\"u1\", \"u2\", \"u3\"])\n",
    "noise_bit_flip.add_all_qubit_quantum_error(error_gate2, [\"cx\"])\n",
    "        \n",
    "sim_noise=AerSimulator(noise_model=noise_bit_flip)\n",
    "qc_bitnoise = transpile(qc, sim_noise)\n",
    "result_bit_flip = sim_noise.run(qc_bitnoise).result()\n",
    "sv1 = get_adjusted_state(result_bit_flip.get_statevector(0))\n",
    "matrix=state_to_ampl_counts(sv1)\n",
    "state_to_ampl_counts(sv1)"
   ]
  },
  {
   "cell_type": "code",
   "execution_count": null,
   "id": "635fdcb6",
   "metadata": {},
   "outputs": [],
   "source": [
    "values = np.array(list(matrix.values()))\n",
    "output = np.reshape(values, (-1, 2**(int(nodes/2)))) # reshape the array and extract the amplitudes\n",
    "print(output)"
   ]
  },
  {
   "cell_type": "code",
   "execution_count": null,
   "id": "7583666e",
   "metadata": {},
   "outputs": [],
   "source": [
    "truematrix = output.T\n",
    "print(truematrix)"
   ]
  },
  {
   "cell_type": "code",
   "execution_count": null,
   "id": "53ed2aba",
   "metadata": {},
   "outputs": [],
   "source": [
    "import scipy.linalg\n",
    "\n",
    "U, D, V = scipy.linalg.svd(truematrix)\n",
    "print(D)"
   ]
  },
  {
   "cell_type": "code",
   "execution_count": null,
   "id": "ffa6a941",
   "metadata": {},
   "outputs": [],
   "source": [
    "precision = 4\n",
    "\n",
    "singular = [round(num, precision) for num in D]\n",
    "print(singular)"
   ]
  },
  {
   "cell_type": "code",
   "execution_count": null,
   "id": "a8c2873f",
   "metadata": {},
   "outputs": [],
   "source": [
    "import math\n",
    "total = 0\n",
    "for num in singular:\n",
    "    if num != 0:\n",
    "        total += (-1)*(num**2 * math.log(num**2))\n",
    "\n",
    "print(\"for\", p, \"entropy is\", total)"
   ]
  },
  {
   "cell_type": "code",
   "execution_count": null,
   "id": "b4e7610f",
   "metadata": {},
   "outputs": [],
   "source": []
  },
  {
   "cell_type": "code",
   "execution_count": null,
   "id": "39b683a7",
   "metadata": {},
   "outputs": [],
   "source": []
  }
 ],
 "metadata": {
  "kernelspec": {
   "display_name": "Python 3 (ipykernel)",
   "language": "python",
   "name": "python3"
  },
  "language_info": {
   "codemirror_mode": {
    "name": "ipython",
    "version": 3
   },
   "file_extension": ".py",
   "mimetype": "text/x-python",
   "name": "python",
   "nbconvert_exporter": "python",
   "pygments_lexer": "ipython3",
   "version": "3.9.13"
  }
 },
 "nbformat": 4,
 "nbformat_minor": 5
}
